{
 "cells": [
  {
   "cell_type": "code",
   "execution_count": 1,
   "id": "88b9f2e6",
   "metadata": {},
   "outputs": [
    {
     "data": {
      "text/html": [
       "<strong>$a</strong> = <ol class=list-inline>\n",
       "\t<li>1</li>\n",
       "\t<li>1.4142135623731</li>\n",
       "\t<li>1.73205080756888</li>\n",
       "\t<li>2</li>\n",
       "\t<li>2.23606797749979</li>\n",
       "\t<li>2.44948974278318</li>\n",
       "\t<li>2.64575131106459</li>\n",
       "\t<li>2.82842712474619</li>\n",
       "\t<li>3</li>\n",
       "\t<li>3.16227766016838</li>\n",
       "</ol>\n"
      ],
      "text/latex": [
       "\\textbf{\\$a} = \\begin{enumerate*}\n",
       "\\item 1\n",
       "\\item 1.4142135623731\n",
       "\\item 1.73205080756888\n",
       "\\item 2\n",
       "\\item 2.23606797749979\n",
       "\\item 2.44948974278318\n",
       "\\item 2.64575131106459\n",
       "\\item 2.82842712474619\n",
       "\\item 3\n",
       "\\item 3.16227766016838\n",
       "\\end{enumerate*}\n"
      ],
      "text/markdown": [
       "**$a** = 1. 1\n",
       "2. 1.4142135623731\n",
       "3. 1.73205080756888\n",
       "4. 2\n",
       "5. 2.23606797749979\n",
       "6. 2.44948974278318\n",
       "7. 2.64575131106459\n",
       "8. 2.82842712474619\n",
       "9. 3\n",
       "10. 3.16227766016838\n",
       "\n",
       "\n"
      ],
      "text/plain": [
       "$a\n",
       " [1] 1.000000 1.414214 1.732051 2.000000 2.236068 2.449490 2.645751 2.828427\n",
       " [9] 3.000000 3.162278\n"
      ]
     },
     "metadata": {},
     "output_type": "display_data"
    }
   ],
   "source": [
    "#part 1\n",
    "#slide 4-6\n",
    "x <- list(a=1:10)\n",
    "lapply(x, sqrt)"
   ]
  },
  {
   "cell_type": "code",
   "execution_count": 4,
   "id": "35df1f87",
   "metadata": {},
   "outputs": [
    {
     "data": {
      "text/html": [
       "<dl>\n",
       "\t<dt>$a</dt>\n",
       "\t\t<dd><ol class=list-inline>\n",
       "\t<li>62</li>\n",
       "\t<li>45</li>\n",
       "\t<li>67</li>\n",
       "\t<li>79</li>\n",
       "\t<li>95</li>\n",
       "\t<li>33</li>\n",
       "\t<li>11</li>\n",
       "\t<li>97</li>\n",
       "\t<li>24</li>\n",
       "\t<li>50</li>\n",
       "</ol>\n",
       "</dd>\n",
       "\t<dt>$b</dt>\n",
       "\t\t<dd><ol class=list-inline>\n",
       "\t<li>10</li>\n",
       "\t<li>11</li>\n",
       "\t<li>12</li>\n",
       "\t<li>13</li>\n",
       "\t<li>14</li>\n",
       "\t<li>15</li>\n",
       "\t<li>16</li>\n",
       "\t<li>17</li>\n",
       "\t<li>18</li>\n",
       "\t<li>19</li>\n",
       "\t<li>20</li>\n",
       "</ol>\n",
       "</dd>\n",
       "\t<dt>$c</dt>\n",
       "\t\t<dd><ol class=list-inline>\n",
       "\t<li>-0.407603534669097</li>\n",
       "\t<li>-0.257361999440178</li>\n",
       "\t<li>0.245177772496938</li>\n",
       "\t<li>2.39634260831492</li>\n",
       "\t<li>-0.861673037940141</li>\n",
       "</ol>\n",
       "</dd>\n",
       "</dl>\n"
      ],
      "text/latex": [
       "\\begin{description}\n",
       "\\item[\\$a] \\begin{enumerate*}\n",
       "\\item 62\n",
       "\\item 45\n",
       "\\item 67\n",
       "\\item 79\n",
       "\\item 95\n",
       "\\item 33\n",
       "\\item 11\n",
       "\\item 97\n",
       "\\item 24\n",
       "\\item 50\n",
       "\\end{enumerate*}\n",
       "\n",
       "\\item[\\$b] \\begin{enumerate*}\n",
       "\\item 10\n",
       "\\item 11\n",
       "\\item 12\n",
       "\\item 13\n",
       "\\item 14\n",
       "\\item 15\n",
       "\\item 16\n",
       "\\item 17\n",
       "\\item 18\n",
       "\\item 19\n",
       "\\item 20\n",
       "\\end{enumerate*}\n",
       "\n",
       "\\item[\\$c] \\begin{enumerate*}\n",
       "\\item -0.407603534669097\n",
       "\\item -0.257361999440178\n",
       "\\item 0.245177772496938\n",
       "\\item 2.39634260831492\n",
       "\\item -0.861673037940141\n",
       "\\end{enumerate*}\n",
       "\n",
       "\\end{description}\n"
      ],
      "text/markdown": [
       "$a\n",
       ":   1. 62\n",
       "2. 45\n",
       "3. 67\n",
       "4. 79\n",
       "5. 95\n",
       "6. 33\n",
       "7. 11\n",
       "8. 97\n",
       "9. 24\n",
       "10. 50\n",
       "\n",
       "\n",
       "\n",
       "$b\n",
       ":   1. 10\n",
       "2. 11\n",
       "3. 12\n",
       "4. 13\n",
       "5. 14\n",
       "6. 15\n",
       "7. 16\n",
       "8. 17\n",
       "9. 18\n",
       "10. 19\n",
       "11. 20\n",
       "\n",
       "\n",
       "\n",
       "$c\n",
       ":   1. -0.407603534669097\n",
       "2. -0.257361999440178\n",
       "3. 0.245177772496938\n",
       "4. 2.39634260831492\n",
       "5. -0.861673037940141\n",
       "\n",
       "\n",
       "\n",
       "\n",
       "\n"
      ],
      "text/plain": [
       "$a\n",
       " [1] 62 45 67 79 95 33 11 97 24 50\n",
       "\n",
       "$b\n",
       " [1] 10 11 12 13 14 15 16 17 18 19 20\n",
       "\n",
       "$c\n",
       "[1] -0.4076035 -0.2573620  0.2451778  2.3963426 -0.8616730\n"
      ]
     },
     "metadata": {},
     "output_type": "display_data"
    },
    {
     "data": {
      "text/html": [
       "<dl class=dl-horizontal>\n",
       "\t<dt>a</dt>\n",
       "\t\t<dd>56.3</dd>\n",
       "\t<dt>b</dt>\n",
       "\t\t<dd>15</dd>\n",
       "\t<dt>c</dt>\n",
       "\t\t<dd>0.222976361752488</dd>\n",
       "</dl>\n"
      ],
      "text/latex": [
       "\\begin{description*}\n",
       "\\item[a] 56.3\n",
       "\\item[b] 15\n",
       "\\item[c] 0.222976361752488\n",
       "\\end{description*}\n"
      ],
      "text/markdown": [
       "a\n",
       ":   56.3b\n",
       ":   15c\n",
       ":   0.222976361752488\n",
       "\n"
      ],
      "text/plain": [
       "         a          b          c \n",
       "56.3000000 15.0000000  0.2229764 "
      ]
     },
     "metadata": {},
     "output_type": "display_data"
    }
   ],
   "source": [
    "#slide 7\n",
    "y <- list(a = sample.int(100, 10), b = 10:20, c = rnorm(5))\n",
    "y\n",
    "sapply(y, mean)"
   ]
  },
  {
   "cell_type": "code",
   "execution_count": 8,
   "id": "a624f366",
   "metadata": {},
   "outputs": [
    {
     "data": {
      "text/html": [
       "<table>\n",
       "<thead><tr><th scope=col>Plant</th><th scope=col>Type</th><th scope=col>Treatment</th><th scope=col>conc</th><th scope=col>uptake</th></tr></thead>\n",
       "<tbody>\n",
       "\t<tr><td>Qn1       </td><td>Quebec    </td><td>nonchilled</td><td> 95       </td><td>16.0      </td></tr>\n",
       "\t<tr><td>Qn1       </td><td>Quebec    </td><td>nonchilled</td><td>175       </td><td>30.4      </td></tr>\n",
       "\t<tr><td>Qn1       </td><td>Quebec    </td><td>nonchilled</td><td>250       </td><td>34.8      </td></tr>\n",
       "\t<tr><td>Qn1       </td><td>Quebec    </td><td>nonchilled</td><td>350       </td><td>37.2      </td></tr>\n",
       "\t<tr><td>Qn1       </td><td>Quebec    </td><td>nonchilled</td><td>500       </td><td>35.3      </td></tr>\n",
       "\t<tr><td>Qn1       </td><td>Quebec    </td><td>nonchilled</td><td>675       </td><td>39.2      </td></tr>\n",
       "</tbody>\n",
       "</table>\n"
      ],
      "text/latex": [
       "\\begin{tabular}{r|lllll}\n",
       " Plant & Type & Treatment & conc & uptake\\\\\n",
       "\\hline\n",
       "\t Qn1        & Quebec     & nonchilled &  95        & 16.0      \\\\\n",
       "\t Qn1        & Quebec     & nonchilled & 175        & 30.4      \\\\\n",
       "\t Qn1        & Quebec     & nonchilled & 250        & 34.8      \\\\\n",
       "\t Qn1        & Quebec     & nonchilled & 350        & 37.2      \\\\\n",
       "\t Qn1        & Quebec     & nonchilled & 500        & 35.3      \\\\\n",
       "\t Qn1        & Quebec     & nonchilled & 675        & 39.2      \\\\\n",
       "\\end{tabular}\n"
      ],
      "text/markdown": [
       "\n",
       "| Plant | Type | Treatment | conc | uptake |\n",
       "|---|---|---|---|---|\n",
       "| Qn1        | Quebec     | nonchilled |  95        | 16.0       |\n",
       "| Qn1        | Quebec     | nonchilled | 175        | 30.4       |\n",
       "| Qn1        | Quebec     | nonchilled | 250        | 34.8       |\n",
       "| Qn1        | Quebec     | nonchilled | 350        | 37.2       |\n",
       "| Qn1        | Quebec     | nonchilled | 500        | 35.3       |\n",
       "| Qn1        | Quebec     | nonchilled | 675        | 39.2       |\n",
       "\n"
      ],
      "text/plain": [
       "  Plant Type   Treatment  conc uptake\n",
       "1 Qn1   Quebec nonchilled  95  16.0  \n",
       "2 Qn1   Quebec nonchilled 175  30.4  \n",
       "3 Qn1   Quebec nonchilled 250  34.8  \n",
       "4 Qn1   Quebec nonchilled 350  37.2  \n",
       "5 Qn1   Quebec nonchilled 500  35.3  \n",
       "6 Qn1   Quebec nonchilled 675  39.2  "
      ]
     },
     "metadata": {},
     "output_type": "display_data"
    },
    {
     "data": {
      "text/html": [
       "<table>\n",
       "<thead><tr><th></th><th scope=col>7.7</th><th scope=col>9.3</th><th scope=col>10.5</th><th scope=col>10.6</th><th scope=col>11.3</th><th scope=col>11.4</th><th scope=col>12</th><th scope=col>12.3</th><th scope=col>12.5</th><th scope=col>13</th><th scope=col>...</th><th scope=col>40.3</th><th scope=col>40.6</th><th scope=col>41.4</th><th scope=col>41.8</th><th scope=col>42.1</th><th scope=col>42.4</th><th scope=col>42.9</th><th scope=col>43.9</th><th scope=col>44.3</th><th scope=col>45.5</th></tr></thead>\n",
       "<tbody>\n",
       "\t<tr><th scope=row>conc</th><td>95.0  </td><td>95.0  </td><td>95.0  </td><td>95.0  </td><td>95.0  </td><td>175.0 </td><td>95    </td><td>250.0 </td><td>500.0 </td><td>350   </td><td>...   </td><td>250.0 </td><td>500.0 </td><td>837.5 </td><td>350.0 </td><td>350.0 </td><td>1000.0</td><td>500.0 </td><td>675.0 </td><td>1000.0</td><td>1000.0</td></tr>\n",
       "\t<tr><th scope=row>uptake</th><td> 7.7  </td><td> 9.3  </td><td>10.5  </td><td>10.6  </td><td>11.3  </td><td> 11.4 </td><td>12    </td><td> 12.3 </td><td> 12.5 </td><td> 13   </td><td>...   </td><td> 40.3 </td><td> 40.6 </td><td> 41.4 </td><td> 41.8 </td><td> 42.1 </td><td>  42.4</td><td> 42.9 </td><td> 43.9 </td><td>  44.3</td><td>  45.5</td></tr>\n",
       "</tbody>\n",
       "</table>\n"
      ],
      "text/latex": [
       "\\begin{tabular}{r|llllllllllllllllllllllllllllllllllllllllllllllllllllllllllllllllllllllllllll}\n",
       "  & 7.7 & 9.3 & 10.5 & 10.6 & 11.3 & 11.4 & 12 & 12.3 & 12.5 & 13 & ... & 40.3 & 40.6 & 41.4 & 41.8 & 42.1 & 42.4 & 42.9 & 43.9 & 44.3 & 45.5\\\\\n",
       "\\hline\n",
       "\tconc & 95.0   & 95.0   & 95.0   & 95.0   & 95.0   & 175.0  & 95     & 250.0  & 500.0  & 350    & ...    & 250.0  & 500.0  & 837.5  & 350.0  & 350.0  & 1000.0 & 500.0  & 675.0  & 1000.0 & 1000.0\\\\\n",
       "\tuptake &  7.7   &  9.3   & 10.5   & 10.6   & 11.3   &  11.4  & 12     &  12.3  &  12.5  &  13    & ...    &  40.3  &  40.6  &  41.4  &  41.8  &  42.1  &   42.4 &  42.9  &  43.9  &   44.3 &   45.5\\\\\n",
       "\\end{tabular}\n"
      ],
      "text/markdown": [
       "\n",
       "| <!--/--> | 7.7 | 9.3 | 10.5 | 10.6 | 11.3 | 11.4 | 12 | 12.3 | 12.5 | 13 | ... | 40.3 | 40.6 | 41.4 | 41.8 | 42.1 | 42.4 | 42.9 | 43.9 | 44.3 | 45.5 |\n",
       "|---|---|---|---|---|---|---|---|---|---|---|---|---|---|---|---|---|---|---|---|---|---|\n",
       "| conc | 95.0   | 95.0   | 95.0   | 95.0   | 95.0   | 175.0  | 95     | 250.0  | 500.0  | 350    | ...    | 250.0  | 500.0  | 837.5  | 350.0  | 350.0  | 1000.0 | 500.0  | 675.0  | 1000.0 | 1000.0 |\n",
       "| uptake |  7.7   |  9.3   | 10.5   | 10.6   | 11.3   |  11.4  | 12     |  12.3  |  12.5  |  13    | ...    |  40.3  |  40.6  |  41.4  |  41.8  |  42.1  |   42.4 |  42.9  |  43.9  |   44.3 |   45.5 |\n",
       "\n"
      ],
      "text/plain": [
       "       7.7  9.3  10.5 10.6 11.3 11.4  12 12.3  12.5  13  ... 40.3  40.6  41.4 \n",
       "conc   95.0 95.0 95.0 95.0 95.0 175.0 95 250.0 500.0 350 ... 250.0 500.0 837.5\n",
       "uptake  7.7  9.3 10.5 10.6 11.3  11.4 12  12.3  12.5  13 ...  40.3  40.6  41.4\n",
       "       41.8  42.1  42.4   42.9  43.9  44.3   45.5  \n",
       "conc   350.0 350.0 1000.0 500.0 675.0 1000.0 1000.0\n",
       "uptake  41.8  42.1   42.4  42.9  43.9   44.3   45.5"
      ]
     },
     "metadata": {},
     "output_type": "display_data"
    }
   ],
   "source": [
    "#slide 8\n",
    "library(datasets)\n",
    "head(CO2)\n",
    "s <- split(CO2, CO2$uptake)\n",
    "\n",
    " sapply(s, function(x) {\n",
    "     colMeans(x[, c(\"conc\", \"uptake\")])\n",
    " })"
   ]
  },
  {
   "cell_type": "code",
   "execution_count": 12,
   "id": "a078cebd",
   "metadata": {},
   "outputs": [
    {
     "data": {
      "text/html": [
       "<dl class=dl-horizontal>\n",
       "\t<dt>1</dt>\n",
       "\t\t<dd>55.5</dd>\n",
       "\t<dt>2</dt>\n",
       "\t\t<dd>43.7</dd>\n",
       "\t<dt>3</dt>\n",
       "\t\t<dd>42.6</dd>\n",
       "</dl>\n"
      ],
      "text/latex": [
       "\\begin{description*}\n",
       "\\item[1] 55.5\n",
       "\\item[2] 43.7\n",
       "\\item[3] 42.6\n",
       "\\end{description*}\n"
      ],
      "text/markdown": [
       "1\n",
       ":   55.52\n",
       ":   43.73\n",
       ":   42.6\n",
       "\n"
      ],
      "text/plain": [
       "   1    2    3 \n",
       "55.5 43.7 42.6 "
      ]
     },
     "metadata": {},
     "output_type": "display_data"
    }
   ],
   "source": [
    "#slide 9-10\n",
    "z <- c(a = sample.int(100, 30))\n",
    "fact <- gl(3, 10)\n",
    "tapply(z, fact, mean)"
   ]
  },
  {
   "cell_type": "code",
   "execution_count": 15,
   "id": "687be4d2",
   "metadata": {},
   "outputs": [
    {
     "data": {
      "text/html": [
       "<ol class=list-inline>\n",
       "\t<li>39</li>\n",
       "\t<li>130</li>\n",
       "\t<li>141</li>\n",
       "\t<li>132</li>\n",
       "\t<li>183</li>\n",
       "\t<li>36</li>\n",
       "\t<li>8</li>\n",
       "\t<li>78</li>\n",
       "\t<li>172</li>\n",
       "\t<li>16</li>\n",
       "\t<li>81</li>\n",
       "\t<li>119</li>\n",
       "\t<li>103</li>\n",
       "\t<li>191</li>\n",
       "\t<li>151</li>\n",
       "\t<li>35</li>\n",
       "\t<li>73</li>\n",
       "\t<li>184</li>\n",
       "\t<li>117</li>\n",
       "\t<li>182</li>\n",
       "\t<li>112</li>\n",
       "\t<li>94</li>\n",
       "\t<li>86</li>\n",
       "\t<li>79</li>\n",
       "\t<li>164</li>\n",
       "\t<li>121</li>\n",
       "\t<li>10</li>\n",
       "\t<li>42</li>\n",
       "\t<li>40</li>\n",
       "\t<li>158</li>\n",
       "\t<li>20</li>\n",
       "\t<li>146</li>\n",
       "\t<li>41</li>\n",
       "\t<li>84</li>\n",
       "\t<li>19</li>\n",
       "\t<li>155</li>\n",
       "\t<li>74</li>\n",
       "\t<li>9</li>\n",
       "\t<li>109</li>\n",
       "\t<li>82</li>\n",
       "</ol>\n"
      ],
      "text/latex": [
       "\\begin{enumerate*}\n",
       "\\item 39\n",
       "\\item 130\n",
       "\\item 141\n",
       "\\item 132\n",
       "\\item 183\n",
       "\\item 36\n",
       "\\item 8\n",
       "\\item 78\n",
       "\\item 172\n",
       "\\item 16\n",
       "\\item 81\n",
       "\\item 119\n",
       "\\item 103\n",
       "\\item 191\n",
       "\\item 151\n",
       "\\item 35\n",
       "\\item 73\n",
       "\\item 184\n",
       "\\item 117\n",
       "\\item 182\n",
       "\\item 112\n",
       "\\item 94\n",
       "\\item 86\n",
       "\\item 79\n",
       "\\item 164\n",
       "\\item 121\n",
       "\\item 10\n",
       "\\item 42\n",
       "\\item 40\n",
       "\\item 158\n",
       "\\item 20\n",
       "\\item 146\n",
       "\\item 41\n",
       "\\item 84\n",
       "\\item 19\n",
       "\\item 155\n",
       "\\item 74\n",
       "\\item 9\n",
       "\\item 109\n",
       "\\item 82\n",
       "\\end{enumerate*}\n"
      ],
      "text/markdown": [
       "1. 39\n",
       "2. 130\n",
       "3. 141\n",
       "4. 132\n",
       "5. 183\n",
       "6. 36\n",
       "7. 8\n",
       "8. 78\n",
       "9. 172\n",
       "10. 16\n",
       "11. 81\n",
       "12. 119\n",
       "13. 103\n",
       "14. 191\n",
       "15. 151\n",
       "16. 35\n",
       "17. 73\n",
       "18. 184\n",
       "19. 117\n",
       "20. 182\n",
       "21. 112\n",
       "22. 94\n",
       "23. 86\n",
       "24. 79\n",
       "25. 164\n",
       "26. 121\n",
       "27. 10\n",
       "28. 42\n",
       "29. 40\n",
       "30. 158\n",
       "31. 20\n",
       "32. 146\n",
       "33. 41\n",
       "34. 84\n",
       "35. 19\n",
       "36. 155\n",
       "37. 74\n",
       "38. 9\n",
       "39. 109\n",
       "40. 82\n",
       "\n",
       "\n"
      ],
      "text/plain": [
       ", , 1\n",
       "\n",
       "     [,1] [,2]\n",
       "[1,]   39  141\n",
       "[2,]  130  132\n",
       "\n",
       ", , 2\n",
       "\n",
       "     [,1] [,2]\n",
       "[1,]  183    8\n",
       "[2,]   36   78\n",
       "\n",
       ", , 3\n",
       "\n",
       "     [,1] [,2]\n",
       "[1,]  172   81\n",
       "[2,]   16  119\n",
       "\n",
       ", , 4\n",
       "\n",
       "     [,1] [,2]\n",
       "[1,]  103  151\n",
       "[2,]  191   35\n",
       "\n",
       ", , 5\n",
       "\n",
       "     [,1] [,2]\n",
       "[1,]   73  117\n",
       "[2,]  184  182\n",
       "\n",
       ", , 6\n",
       "\n",
       "     [,1] [,2]\n",
       "[1,]  112   86\n",
       "[2,]   94   79\n",
       "\n",
       ", , 7\n",
       "\n",
       "     [,1] [,2]\n",
       "[1,]  164   10\n",
       "[2,]  121   42\n",
       "\n",
       ", , 8\n",
       "\n",
       "     [,1] [,2]\n",
       "[1,]   40   20\n",
       "[2,]  158  146\n",
       "\n",
       ", , 9\n",
       "\n",
       "     [,1] [,2]\n",
       "[1,]   41   19\n",
       "[2,]   84  155\n",
       "\n",
       ", , 10\n",
       "\n",
       "     [,1] [,2]\n",
       "[1,]   74  109\n",
       "[2,]    9   82\n"
      ]
     },
     "metadata": {},
     "output_type": "display_data"
    },
    {
     "data": {
      "text/html": [
       "<ol class=list-inline>\n",
       "\t<li>87.15</li>\n",
       "\t<li>103.65</li>\n",
       "</ol>\n"
      ],
      "text/latex": [
       "\\begin{enumerate*}\n",
       "\\item 87.15\n",
       "\\item 103.65\n",
       "\\end{enumerate*}\n"
      ],
      "text/markdown": [
       "1. 87.15\n",
       "2. 103.65\n",
       "\n",
       "\n"
      ],
      "text/plain": [
       "[1]  87.15 103.65"
      ]
     },
     "metadata": {},
     "output_type": "display_data"
    },
    {
     "data": {
      "text/html": [
       "<ol class=list-inline>\n",
       "\t<li>101.2</li>\n",
       "\t<li>89.6</li>\n",
       "</ol>\n"
      ],
      "text/latex": [
       "\\begin{enumerate*}\n",
       "\\item 101.2\n",
       "\\item 89.6\n",
       "\\end{enumerate*}\n"
      ],
      "text/markdown": [
       "1. 101.2\n",
       "2. 89.6\n",
       "\n",
       "\n"
      ],
      "text/plain": [
       "[1] 101.2  89.6"
      ]
     },
     "metadata": {},
     "output_type": "display_data"
    }
   ],
   "source": [
    "#slide 11-12\n",
    "a <- array(sample.int(200), c(2, 2, 10))\n",
    "a\n",
    "apply(a, 1, mean)\n",
    "apply(a, 2, mean)"
   ]
  },
  {
   "cell_type": "code",
   "execution_count": 20,
   "id": "d1d2ffc4",
   "metadata": {},
   "outputs": [
    {
     "data": {
      "text/html": [
       "<ol class=list-inline>\n",
       "\t<li>7</li>\n",
       "\t<li>9</li>\n",
       "\t<li>14</li>\n",
       "\t<li>4</li>\n",
       "\t<li>13</li>\n",
       "</ol>\n"
      ],
      "text/latex": [
       "\\begin{enumerate*}\n",
       "\\item 7\n",
       "\\item 9\n",
       "\\item 14\n",
       "\\item 4\n",
       "\\item 13\n",
       "\\end{enumerate*}\n"
      ],
      "text/markdown": [
       "1. 7\n",
       "2. 9\n",
       "3. 14\n",
       "4. 4\n",
       "5. 13\n",
       "\n",
       "\n"
      ],
      "text/plain": [
       "[1]  7  9 14  4 13"
      ]
     },
     "metadata": {},
     "output_type": "display_data"
    },
    {
     "data": {
      "text/html": [
       "<ol class=list-inline>\n",
       "\t<li>3</li>\n",
       "\t<li>13</li>\n",
       "\t<li>8</li>\n",
       "\t<li>7</li>\n",
       "\t<li>6</li>\n",
       "</ol>\n"
      ],
      "text/latex": [
       "\\begin{enumerate*}\n",
       "\\item 3\n",
       "\\item 13\n",
       "\\item 8\n",
       "\\item 7\n",
       "\\item 6\n",
       "\\end{enumerate*}\n"
      ],
      "text/markdown": [
       "1. 3\n",
       "2. 13\n",
       "3. 8\n",
       "4. 7\n",
       "5. 6\n",
       "\n",
       "\n"
      ],
      "text/plain": [
       "[1]  3 13  8  7  6"
      ]
     },
     "metadata": {},
     "output_type": "display_data"
    },
    {
     "data": {
      "text/html": [
       "<ol class=list-inline>\n",
       "\t<li>21</li>\n",
       "\t<li>117</li>\n",
       "\t<li>112</li>\n",
       "\t<li>28</li>\n",
       "\t<li>78</li>\n",
       "</ol>\n"
      ],
      "text/latex": [
       "\\begin{enumerate*}\n",
       "\\item 21\n",
       "\\item 117\n",
       "\\item 112\n",
       "\\item 28\n",
       "\\item 78\n",
       "\\end{enumerate*}\n"
      ],
      "text/markdown": [
       "1. 21\n",
       "2. 117\n",
       "3. 112\n",
       "4. 28\n",
       "5. 78\n",
       "\n",
       "\n"
      ],
      "text/plain": [
       "[1]  21 117 112  28  78"
      ]
     },
     "metadata": {},
     "output_type": "display_data"
    }
   ],
   "source": [
    "#slide 13-14\n",
    "a <- c(sample.int(15,5))\n",
    "a\n",
    "b <- c(sample.int(15,5))\n",
    "b\n",
    "mapply(function(v1,v2) v1*v2, a, b)"
   ]
  },
  {
   "cell_type": "code",
   "execution_count": 21,
   "id": "a1a75e89",
   "metadata": {},
   "outputs": [
    {
     "data": {
      "text/html": [
       "<ol class=list-inline>\n",
       "\t<li>16.0934769394311</li>\n",
       "\t<li>7.61577310586391</li>\n",
       "\t<li>4.35889894354067</li>\n",
       "\t<li>22.1359436211787</li>\n",
       "\t<li>49.3963561409139</li>\n",
       "\t<li>54.5893762558247</li>\n",
       "\t<li>50.6458290484024</li>\n",
       "\t<li>48.0208288141719</li>\n",
       "\t<li>66.6858305789168</li>\n",
       "\t<li>56.6568618968612</li>\n",
       "\t<li>13.6381816969859</li>\n",
       "\t<li>61.5629758864855</li>\n",
       "\t<li>59.9833310178753</li>\n",
       "\t<li>32.9848450049413</li>\n",
       "\t<li>50.8920425999979</li>\n",
       "</ol>\n"
      ],
      "text/latex": [
       "\\begin{enumerate*}\n",
       "\\item 16.0934769394311\n",
       "\\item 7.61577310586391\n",
       "\\item 4.35889894354067\n",
       "\\item 22.1359436211787\n",
       "\\item 49.3963561409139\n",
       "\\item 54.5893762558247\n",
       "\\item 50.6458290484024\n",
       "\\item 48.0208288141719\n",
       "\\item 66.6858305789168\n",
       "\\item 56.6568618968612\n",
       "\\item 13.6381816969859\n",
       "\\item 61.5629758864855\n",
       "\\item 59.9833310178753\n",
       "\\item 32.9848450049413\n",
       "\\item 50.8920425999979\n",
       "\\end{enumerate*}\n"
      ],
      "text/markdown": [
       "1. 16.0934769394311\n",
       "2. 7.61577310586391\n",
       "3. 4.35889894354067\n",
       "4. 22.1359436211787\n",
       "5. 49.3963561409139\n",
       "6. 54.5893762558247\n",
       "7. 50.6458290484024\n",
       "8. 48.0208288141719\n",
       "9. 66.6858305789168\n",
       "10. 56.6568618968612\n",
       "11. 13.6381816969859\n",
       "12. 61.5629758864855\n",
       "13. 59.9833310178753\n",
       "14. 32.9848450049413\n",
       "15. 50.8920425999979\n",
       "\n",
       "\n"
      ],
      "text/plain": [
       " [1] 16.093477  7.615773  4.358899 22.135944 49.396356 54.589376 50.645829\n",
       " [8] 48.020829 66.685831 56.656862 13.638182 61.562976 59.983331 32.984845\n",
       "[15] 50.892043"
      ]
     },
     "metadata": {},
     "output_type": "display_data"
    }
   ],
   "source": [
    "#slide 15-16\n",
    "fun <- function(a, b){\n",
    "    sqrt(a*b + 10)\n",
    "}\n",
    "m <- sample.int(500, 15)\n",
    "vfun <- Vectorize(fun, c(\"a\",  \"b\"))\n",
    "vfun(1:15, m)"
   ]
  },
  {
   "cell_type": "code",
   "execution_count": 5,
   "id": "b3cbce41",
   "metadata": {},
   "outputs": [
    {
     "data": {
      "text/html": [
       "'A group of dragons is called a thunder.'"
      ],
      "text/latex": [
       "'A group of dragons is called a thunder.'"
      ],
      "text/markdown": [
       "'A group of dragons is called a thunder.'"
      ],
      "text/plain": [
       "[1] \"A group of dragons is called a thunder.\""
      ]
     },
     "metadata": {},
     "output_type": "display_data"
    },
    {
     "data": {
      "text/html": [
       "39"
      ],
      "text/latex": [
       "39"
      ],
      "text/markdown": [
       "39"
      ],
      "text/plain": [
       "[1] 39"
      ]
     },
     "metadata": {},
     "output_type": "display_data"
    },
    {
     "data": {
      "text/html": [
       "'dragons'"
      ],
      "text/latex": [
       "'dragons'"
      ],
      "text/markdown": [
       "'dragons'"
      ],
      "text/plain": [
       "[1] \"dragons\""
      ]
     },
     "metadata": {},
     "output_type": "display_data"
    },
    {
     "data": {
      "text/html": [
       "'thunder'"
      ],
      "text/latex": [
       "'thunder'"
      ],
      "text/markdown": [
       "'thunder'"
      ],
      "text/plain": [
       "[1] \"thunder\""
      ]
     },
     "metadata": {},
     "output_type": "display_data"
    }
   ],
   "source": [
    "#part 2\n",
    "#slide 3\n",
    "library(stringr)\n",
    "str_c(\"A\", \"group\", \"of\", \"dragons\", \"is\", \"called\", \"a\", \"thunder.\", sep = \" \")\n",
    "str_length(\"A group of dragons is called a thunder.\")\n",
    "dragon <- \"A group of dragons is called a thunder.\"\n",
    "str_sub(dragon, start = 12, end = 18)\n",
    "str_sub(dragon, start = -8, end = 38)"
   ]
  },
  {
   "cell_type": "code",
   "execution_count": 9,
   "id": "fe9c0cd9",
   "metadata": {},
   "outputs": [
    {
     "data": {
      "text/html": [
       "<style>\n",
       ".list-inline {list-style: none; margin:0; padding: 0}\n",
       ".list-inline>li {display: inline-block}\n",
       ".list-inline>li:not(:last-child)::after {content: \"\\00b7\"; padding: 0 .5ex}\n",
       "</style>\n",
       "<ol class=list-inline><li>':)'</li><li>':):)'</li><li>':):):)'</li><li>':):):):)'</li><li>':):):):):)'</li></ol>\n"
      ],
      "text/latex": [
       "\\begin{enumerate*}\n",
       "\\item ':)'\n",
       "\\item ':):)'\n",
       "\\item ':):):)'\n",
       "\\item ':):):):)'\n",
       "\\item ':):):):):)'\n",
       "\\end{enumerate*}\n"
      ],
      "text/markdown": [
       "1. ':)'\n",
       "2. ':):)'\n",
       "3. ':):):)'\n",
       "4. ':):):):)'\n",
       "5. ':):):):):)'\n",
       "\n",
       "\n"
      ],
      "text/plain": [
       "[1] \":)\"         \":):)\"       \":):):)\"     \":):):):)\"   \":):):):):)\""
      ]
     },
     "metadata": {},
     "output_type": "display_data"
    },
    {
     "data": {
      "text/html": [
       "<span style=white-space:pre-wrap>'white   space'</span>"
      ],
      "text/latex": [
       "'white   space'"
      ],
      "text/markdown": [
       "<span style=white-space:pre-wrap>'white   space'</span>"
      ],
      "text/plain": [
       "[1] \"white   space\""
      ]
     },
     "metadata": {},
     "output_type": "display_data"
    },
    {
     "data": {
      "text/html": [
       "'**emphasis**'"
      ],
      "text/latex": [
       "'**emphasis**'"
      ],
      "text/markdown": [
       "'**emphasis**'"
      ],
      "text/plain": [
       "[1] \"**emphasis**\""
      ]
     },
     "metadata": {},
     "output_type": "display_data"
    }
   ],
   "source": [
    "#slide 4\n",
    "str_dup(\":)\", 1:5)\n",
    "str_trim(\"         white   space       \", side = \"both\")\n",
    "str_pad(\"emphasis\", width = 12, side = \"both\", pad = \"*\")"
   ]
  },
  {
   "cell_type": "code",
   "execution_count": 14,
   "id": "80c94d44",
   "metadata": {},
   "outputs": [
    {
     "data": {
      "text/html": [
       "TRUE"
      ],
      "text/latex": [
       "TRUE"
      ],
      "text/markdown": [
       "TRUE"
      ],
      "text/plain": [
       "[1] TRUE"
      ]
     },
     "metadata": {},
     "output_type": "display_data"
    },
    {
     "data": {
      "text/html": [
       "<table class=\"dataframe\">\n",
       "<caption>A matrix: 1 × 2 of type int</caption>\n",
       "<thead>\n",
       "\t<tr><th scope=col>start</th><th scope=col>end</th></tr>\n",
       "</thead>\n",
       "<tbody>\n",
       "\t<tr><td>23</td><td>28</td></tr>\n",
       "</tbody>\n",
       "</table>\n"
      ],
      "text/latex": [
       "A matrix: 1 × 2 of type int\n",
       "\\begin{tabular}{ll}\n",
       " start & end\\\\\n",
       "\\hline\n",
       "\t 23 & 28\\\\\n",
       "\\end{tabular}\n"
      ],
      "text/markdown": [
       "\n",
       "A matrix: 1 × 2 of type int\n",
       "\n",
       "| start | end |\n",
       "|---|---|\n",
       "| 23 | 28 |\n",
       "\n"
      ],
      "text/plain": [
       "     start end\n",
       "[1,] 23    28 "
      ]
     },
     "metadata": {},
     "output_type": "display_data"
    },
    {
     "data": {
      "text/html": [
       "<ol>\n",
       "\t<li><table class=\"dataframe\">\n",
       "<caption>A matrix: 2 × 2 of type int</caption>\n",
       "<thead>\n",
       "\t<tr><th scope=col>start</th><th scope=col>end</th></tr>\n",
       "</thead>\n",
       "<tbody>\n",
       "\t<tr><td>27</td><td>27</td></tr>\n",
       "\t<tr><td>37</td><td>37</td></tr>\n",
       "</tbody>\n",
       "</table>\n",
       "</li>\n",
       "</ol>\n"
      ],
      "text/latex": [
       "\\begin{enumerate}\n",
       "\\item A matrix: 2 × 2 of type int\n",
       "\\begin{tabular}{ll}\n",
       " start & end\\\\\n",
       "\\hline\n",
       "\t 27 & 27\\\\\n",
       "\t 37 & 37\\\\\n",
       "\\end{tabular}\n",
       "\n",
       "\\end{enumerate}\n"
      ],
      "text/markdown": [
       "1. \n",
       "A matrix: 2 × 2 of type int\n",
       "\n",
       "| start | end |\n",
       "|---|---|\n",
       "| 27 | 27 |\n",
       "| 37 | 37 |\n",
       "\n",
       "\n",
       "\n",
       "\n"
      ],
      "text/plain": [
       "[[1]]\n",
       "     start end\n",
       "[1,]    27  27\n",
       "[2,]    37  37\n"
      ]
     },
     "metadata": {},
     "output_type": "display_data"
    },
    {
     "data": {
      "text/html": [
       "'of dragons'"
      ],
      "text/latex": [
       "'of dragons'"
      ],
      "text/markdown": [
       "'of dragons'"
      ],
      "text/plain": [
       "[1] \"of dragons\""
      ]
     },
     "metadata": {},
     "output_type": "display_data"
    },
    {
     "data": {
      "text/html": [
       "<ol>\n",
       "\t<li><style>\n",
       ".list-inline {list-style: none; margin:0; padding: 0}\n",
       ".list-inline>li {display: inline-block}\n",
       ".list-inline>li:not(:last-child)::after {content: \"\\00b7\"; padding: 0 .5ex}\n",
       "</style>\n",
       "<ol class=list-inline><li>'e'</li><li>'e'</li></ol>\n",
       "</li>\n",
       "</ol>\n"
      ],
      "text/latex": [
       "\\begin{enumerate}\n",
       "\\item \\begin{enumerate*}\n",
       "\\item 'e'\n",
       "\\item 'e'\n",
       "\\end{enumerate*}\n",
       "\n",
       "\\end{enumerate}\n"
      ],
      "text/markdown": [
       "1. 1. 'e'\n",
       "2. 'e'\n",
       "\n",
       "\n",
       "\n",
       "\n",
       "\n"
      ],
      "text/plain": [
       "[[1]]\n",
       "[1] \"e\" \"e\"\n"
      ]
     },
     "metadata": {},
     "output_type": "display_data"
    }
   ],
   "source": [
    "#slide 5\n",
    "str_detect(dragon, \"thunder\")\n",
    "str_locate(dragon, \"called\")\n",
    "str_locate_all(dragon, \"e\")\n",
    "str_extract(dragon, \"of dragons\")\n",
    "str_extract_all(dragon, \"e\")"
   ]
  },
  {
   "cell_type": "code",
   "execution_count": 20,
   "id": "f6be72bc",
   "metadata": {},
   "outputs": [
    {
     "data": {
      "text/html": [
       "'A group of crows is called a thunder.'"
      ],
      "text/latex": [
       "'A group of crows is called a thunder.'"
      ],
      "text/markdown": [
       "'A group of crows is called a thunder.'"
      ],
      "text/plain": [
       "[1] \"A group of crows is called a thunder.\""
      ]
     },
     "metadata": {},
     "output_type": "display_data"
    },
    {
     "data": {
      "text/html": [
       "'A group of dragons is calloood a thundooor.'"
      ],
      "text/latex": [
       "'A group of dragons is calloood a thundooor.'"
      ],
      "text/markdown": [
       "'A group of dragons is calloood a thundooor.'"
      ],
      "text/plain": [
       "[1] \"A group of dragons is calloood a thundooor.\""
      ]
     },
     "metadata": {},
     "output_type": "display_data"
    },
    {
     "data": {
      "text/html": [
       "<ol>\n",
       "\t<li><style>\n",
       ".list-inline {list-style: none; margin:0; padding: 0}\n",
       ".list-inline>li {display: inline-block}\n",
       ".list-inline>li:not(:last-child)::after {content: \"\\00b7\"; padding: 0 .5ex}\n",
       "</style>\n",
       "<ol class=list-inline><li>'A group of dragons '</li><li>' called a thunder.'</li></ol>\n",
       "</li>\n",
       "</ol>\n"
      ],
      "text/latex": [
       "\\begin{enumerate}\n",
       "\\item \\begin{enumerate*}\n",
       "\\item 'A group of dragons '\n",
       "\\item ' called a thunder.'\n",
       "\\end{enumerate*}\n",
       "\n",
       "\\end{enumerate}\n"
      ],
      "text/markdown": [
       "1. 1. 'A group of dragons '\n",
       "2. ' called a thunder.'\n",
       "\n",
       "\n",
       "\n",
       "\n",
       "\n"
      ],
      "text/plain": [
       "[[1]]\n",
       "[1] \"A group of dragons \" \" called a thunder.\" \n"
      ]
     },
     "metadata": {},
     "output_type": "display_data"
    },
    {
     "data": {
      "text/html": [
       "<table class=\"dataframe\">\n",
       "<caption>A matrix: 1 × 10 of type chr</caption>\n",
       "<tbody>\n",
       "\t<tr><td>A group of dragons </td><td> called a thunder.</td><td></td><td></td><td></td><td></td><td></td><td></td><td></td><td></td></tr>\n",
       "</tbody>\n",
       "</table>\n"
      ],
      "text/latex": [
       "A matrix: 1 × 10 of type chr\n",
       "\\begin{tabular}{llllllllll}\n",
       "\t A group of dragons  &  called a thunder. &  &  &  &  &  &  &  & \\\\\n",
       "\\end{tabular}\n"
      ],
      "text/markdown": [
       "\n",
       "A matrix: 1 × 10 of type chr\n",
       "\n",
       "| A group of dragons  |  called a thunder. | <!----> | <!----> | <!----> | <!----> | <!----> | <!----> | <!----> | <!----> |\n",
       "\n"
      ],
      "text/plain": [
       "     [,1]                [,2]               [,3] [,4] [,5] [,6] [,7] [,8] [,9]\n",
       "[1,] A group of dragons   called a thunder.                                   \n",
       "     [,10]\n",
       "[1,]      "
      ]
     },
     "metadata": {},
     "output_type": "display_data"
    }
   ],
   "source": [
    "#slide 6\n",
    "str_replace(dragon, \"dragons\", \"crows\")\n",
    "str_replace_all(dragon, \"e\", \"ooo\")\n",
    "str_split(dragon, \"is\")\n",
    "str_split_fixed(dragon, \"is\", 10)"
   ]
  }
 ],
 "metadata": {
  "kernelspec": {
   "display_name": "R",
   "language": "R",
   "name": "ir"
  },
  "language_info": {
   "codemirror_mode": "r",
   "file_extension": ".r",
   "mimetype": "text/x-r-source",
   "name": "R",
   "pygments_lexer": "r",
   "version": "4.1.3"
  }
 },
 "nbformat": 4,
 "nbformat_minor": 5
}

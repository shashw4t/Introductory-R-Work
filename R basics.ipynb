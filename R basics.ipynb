{
 "cells": [
  {
   "cell_type": "code",
   "execution_count": 1,
   "id": "287983a0",
   "metadata": {},
   "outputs": [
    {
     "data": {
      "text/html": [
       "5"
      ],
      "text/latex": [
       "5"
      ],
      "text/markdown": [
       "5"
      ],
      "text/plain": [
       "[1] 5"
      ]
     },
     "metadata": {},
     "output_type": "display_data"
    }
   ],
   "source": [
    "log2(32)"
   ]
  },
  {
   "cell_type": "code",
   "execution_count": 2,
   "id": "0e6c5e4d",
   "metadata": {},
   "outputs": [
    {
     "data": {
      "text/html": [
       "1.4142135623731"
      ],
      "text/latex": [
       "1.4142135623731"
      ],
      "text/markdown": [
       "1.4142135623731"
      ],
      "text/plain": [
       "[1] 1.414214"
      ]
     },
     "metadata": {},
     "output_type": "display_data"
    }
   ],
   "source": [
    "sqrt(2)"
   ]
  },
  {
   "cell_type": "code",
   "execution_count": 3,
   "id": "d77226a3",
   "metadata": {},
   "outputs": [
    {
     "data": {
      "text/html": [
       "<ol class=list-inline>\n",
       "\t<li>0</li>\n",
       "\t<li>1</li>\n",
       "\t<li>2</li>\n",
       "\t<li>3</li>\n",
       "\t<li>4</li>\n",
       "\t<li>5</li>\n",
       "</ol>\n"
      ],
      "text/latex": [
       "\\begin{enumerate*}\n",
       "\\item 0\n",
       "\\item 1\n",
       "\\item 2\n",
       "\\item 3\n",
       "\\item 4\n",
       "\\item 5\n",
       "\\end{enumerate*}\n"
      ],
      "text/markdown": [
       "1. 0\n",
       "2. 1\n",
       "3. 2\n",
       "4. 3\n",
       "5. 4\n",
       "6. 5\n",
       "\n",
       "\n"
      ],
      "text/plain": [
       "[1] 0 1 2 3 4 5"
      ]
     },
     "metadata": {},
     "output_type": "display_data"
    }
   ],
   "source": [
    "seq(0, 5, length = 6)#start, end, length"
   ]
  },
  {
   "cell_type": "code",
   "execution_count": 4,
   "id": "b54e763a",
   "metadata": {},
   "outputs": [
    {
     "data": {
      "image/png": "[encoded data removed]",
      "text/plain": [
       "plot without title"
      ]
     },
     "metadata": {},
     "output_type": "display_data"
    }
   ],
   "source": [
    "plot(sin(seq(0, 2*pi, length = 100)))"
   ]
  },
  {
   "cell_type": "code",
   "execution_count": 5,
   "id": "790dd2ad",
   "metadata": {},
   "outputs": [],
   "source": [
    "data <- c(1, 2, 44, 55, 66)"
   ]
  },
  {
   "cell_type": "code",
   "execution_count": 6,
   "id": "d5999725",
   "metadata": {},
   "outputs": [
    {
     "data": {
      "text/html": [
       "<ol class=list-inline>\n",
       "\t<li>1</li>\n",
       "\t<li>2</li>\n",
       "\t<li>44</li>\n",
       "\t<li>55</li>\n",
       "\t<li>66</li>\n",
       "</ol>\n"
      ],
      "text/latex": [
       "\\begin{enumerate*}\n",
       "\\item 1\n",
       "\\item 2\n",
       "\\item 44\n",
       "\\item 55\n",
       "\\item 66\n",
       "\\end{enumerate*}\n"
      ],
      "text/markdown": [
       "1. 1\n",
       "2. 2\n",
       "3. 44\n",
       "4. 55\n",
       "5. 66\n",
       "\n",
       "\n"
      ],
      "text/plain": [
       "[1]  1  2 44 55 66"
      ]
     },
     "metadata": {},
     "output_type": "display_data"
    }
   ],
   "source": [
    "data"
   ]
  },
  {
   "cell_type": "code",
   "execution_count": 7,
   "id": "212dd935",
   "metadata": {},
   "outputs": [
    {
     "data": {
      "text/html": [
       "<ol class=list-inline>\n",
       "\t<li>1</li>\n",
       "\t<li>2</li>\n",
       "\t<li>3</li>\n",
       "\t<li>4</li>\n",
       "\t<li>5</li>\n",
       "\t<li>6</li>\n",
       "\t<li>7</li>\n",
       "\t<li>8</li>\n",
       "\t<li>9</li>\n",
       "\t<li>10</li>\n",
       "</ol>\n"
      ],
      "text/latex": [
       "\\begin{enumerate*}\n",
       "\\item 1\n",
       "\\item 2\n",
       "\\item 3\n",
       "\\item 4\n",
       "\\item 5\n",
       "\\item 6\n",
       "\\item 7\n",
       "\\item 8\n",
       "\\item 9\n",
       "\\item 10\n",
       "\\end{enumerate*}\n"
      ],
      "text/markdown": [
       "1. 1\n",
       "2. 2\n",
       "3. 3\n",
       "4. 4\n",
       "5. 5\n",
       "6. 6\n",
       "7. 7\n",
       "8. 8\n",
       "9. 9\n",
       "10. 10\n",
       "\n",
       "\n"
      ],
      "text/plain": [
       " [1]  1  2  3  4  5  6  7  8  9 10"
      ]
     },
     "metadata": {},
     "output_type": "display_data"
    }
   ],
   "source": [
    "x<-1:10\n",
    "x"
   ]
  },
  {
   "cell_type": "code",
   "execution_count": 8,
   "id": "6b2ec5cd",
   "metadata": {},
   "outputs": [
    {
     "data": {
      "text/html": [
       "<ol class=list-inline>\n",
       "\t<li>10</li>\n",
       "\t<li>9</li>\n",
       "\t<li>8</li>\n",
       "\t<li>7</li>\n",
       "\t<li>6</li>\n",
       "\t<li>5</li>\n",
       "\t<li>4</li>\n",
       "\t<li>3</li>\n",
       "\t<li>2</li>\n",
       "\t<li>1</li>\n",
       "</ol>\n"
      ],
      "text/latex": [
       "\\begin{enumerate*}\n",
       "\\item 10\n",
       "\\item 9\n",
       "\\item 8\n",
       "\\item 7\n",
       "\\item 6\n",
       "\\item 5\n",
       "\\item 4\n",
       "\\item 3\n",
       "\\item 2\n",
       "\\item 1\n",
       "\\end{enumerate*}\n"
      ],
      "text/markdown": [
       "1. 10\n",
       "2. 9\n",
       "3. 8\n",
       "4. 7\n",
       "5. 6\n",
       "6. 5\n",
       "7. 4\n",
       "8. 3\n",
       "9. 2\n",
       "10. 1\n",
       "\n",
       "\n"
      ],
      "text/plain": [
       " [1] 10  9  8  7  6  5  4  3  2  1"
      ]
     },
     "metadata": {},
     "output_type": "display_data"
    }
   ],
   "source": [
    "x<-rev(1:10)\n",
    "x"
   ]
  },
  {
   "cell_type": "code",
   "execution_count": 10,
   "id": "a0597856",
   "metadata": {},
   "outputs": [
    {
     "data": {
      "text/html": [
       "<ol class=list-inline>\n",
       "\t<li>1</li>\n",
       "\t<li>3</li>\n",
       "\t<li>5</li>\n",
       "\t<li>7</li>\n",
       "\t<li>9</li>\n",
       "</ol>\n"
      ],
      "text/latex": [
       "\\begin{enumerate*}\n",
       "\\item 1\n",
       "\\item 3\n",
       "\\item 5\n",
       "\\item 7\n",
       "\\item 9\n",
       "\\end{enumerate*}\n"
      ],
      "text/markdown": [
       "1. 1\n",
       "2. 3\n",
       "3. 5\n",
       "4. 7\n",
       "5. 9\n",
       "\n",
       "\n"
      ],
      "text/plain": [
       "[1] 1 3 5 7 9"
      ]
     },
     "metadata": {},
     "output_type": "display_data"
    }
   ],
   "source": [
    "a= 1; h =2; n=5\n",
    "a+h*(0:(n-1))"
   ]
  },
  {
   "cell_type": "code",
   "execution_count": 11,
   "id": "a1fe5da1",
   "metadata": {},
   "outputs": [
    {
     "data": {
      "text/html": [
       "<ol class=list-inline>\n",
       "\t<li>1</li>\n",
       "\t<li>3</li>\n",
       "\t<li>5</li>\n",
       "\t<li>7</li>\n",
       "\t<li>9</li>\n",
       "</ol>\n"
      ],
      "text/latex": [
       "\\begin{enumerate*}\n",
       "\\item 1\n",
       "\\item 3\n",
       "\\item 5\n",
       "\\item 7\n",
       "\\item 9\n",
       "\\end{enumerate*}\n"
      ],
      "text/markdown": [
       "1. 1\n",
       "2. 3\n",
       "3. 5\n",
       "4. 7\n",
       "5. 9\n",
       "\n",
       "\n"
      ],
      "text/plain": [
       "[1] 1 3 5 7 9"
      ]
     },
     "metadata": {},
     "output_type": "display_data"
    },
    {
     "data": {
      "text/html": [
       "<ol class=list-inline>\n",
       "\t<li>1</li>\n",
       "\t<li>3</li>\n",
       "\t<li>5</li>\n",
       "\t<li>7</li>\n",
       "\t<li>9</li>\n",
       "</ol>\n"
      ],
      "text/latex": [
       "\\begin{enumerate*}\n",
       "\\item 1\n",
       "\\item 3\n",
       "\\item 5\n",
       "\\item 7\n",
       "\\item 9\n",
       "\\end{enumerate*}\n"
      ],
      "text/markdown": [
       "1. 1\n",
       "2. 3\n",
       "3. 5\n",
       "4. 7\n",
       "5. 9\n",
       "\n",
       "\n"
      ],
      "text/plain": [
       "[1] 1 3 5 7 9"
      ]
     },
     "metadata": {},
     "output_type": "display_data"
    }
   ],
   "source": [
    "seq(1, 9, by=2)\n",
    "seq(1, 9, length = 5)"
   ]
  },
  {
   "cell_type": "code",
   "execution_count": 12,
   "id": "b2ccfb19",
   "metadata": {},
   "outputs": [
    {
     "data": {
      "text/html": [
       "<ol class=list-inline>\n",
       "\t<li>1</li>\n",
       "\t<li>1</li>\n",
       "\t<li>1</li>\n",
       "\t<li>1</li>\n",
       "\t<li>1</li>\n",
       "\t<li>1</li>\n",
       "\t<li>1</li>\n",
       "\t<li>1</li>\n",
       "\t<li>1</li>\n",
       "\t<li>1</li>\n",
       "</ol>\n"
      ],
      "text/latex": [
       "\\begin{enumerate*}\n",
       "\\item 1\n",
       "\\item 1\n",
       "\\item 1\n",
       "\\item 1\n",
       "\\item 1\n",
       "\\item 1\n",
       "\\item 1\n",
       "\\item 1\n",
       "\\item 1\n",
       "\\item 1\n",
       "\\end{enumerate*}\n"
      ],
      "text/markdown": [
       "1. 1\n",
       "2. 1\n",
       "3. 1\n",
       "4. 1\n",
       "5. 1\n",
       "6. 1\n",
       "7. 1\n",
       "8. 1\n",
       "9. 1\n",
       "10. 1\n",
       "\n",
       "\n"
      ],
      "text/plain": [
       " [1] 1 1 1 1 1 1 1 1 1 1"
      ]
     },
     "metadata": {},
     "output_type": "display_data"
    },
    {
     "data": {
      "text/html": [
       "<ol class=list-inline>\n",
       "\t<li>1</li>\n",
       "\t<li>1</li>\n",
       "\t<li>1</li>\n",
       "\t<li>1</li>\n",
       "\t<li>1</li>\n",
       "\t<li>1</li>\n",
       "\t<li>1</li>\n",
       "\t<li>1</li>\n",
       "\t<li>1</li>\n",
       "\t<li>1</li>\n",
       "\t<li>2</li>\n",
       "\t<li>2</li>\n",
       "\t<li>2</li>\n",
       "\t<li>2</li>\n",
       "\t<li>2</li>\n",
       "\t<li>2</li>\n",
       "\t<li>2</li>\n",
       "\t<li>2</li>\n",
       "\t<li>2</li>\n",
       "\t<li>2</li>\n",
       "\t<li>2</li>\n",
       "\t<li>2</li>\n",
       "\t<li>2</li>\n",
       "\t<li>2</li>\n",
       "\t<li>2</li>\n",
       "</ol>\n"
      ],
      "text/latex": [
       "\\begin{enumerate*}\n",
       "\\item 1\n",
       "\\item 1\n",
       "\\item 1\n",
       "\\item 1\n",
       "\\item 1\n",
       "\\item 1\n",
       "\\item 1\n",
       "\\item 1\n",
       "\\item 1\n",
       "\\item 1\n",
       "\\item 2\n",
       "\\item 2\n",
       "\\item 2\n",
       "\\item 2\n",
       "\\item 2\n",
       "\\item 2\n",
       "\\item 2\n",
       "\\item 2\n",
       "\\item 2\n",
       "\\item 2\n",
       "\\item 2\n",
       "\\item 2\n",
       "\\item 2\n",
       "\\item 2\n",
       "\\item 2\n",
       "\\end{enumerate*}\n"
      ],
      "text/markdown": [
       "1. 1\n",
       "2. 1\n",
       "3. 1\n",
       "4. 1\n",
       "5. 1\n",
       "6. 1\n",
       "7. 1\n",
       "8. 1\n",
       "9. 1\n",
       "10. 1\n",
       "11. 2\n",
       "12. 2\n",
       "13. 2\n",
       "14. 2\n",
       "15. 2\n",
       "16. 2\n",
       "17. 2\n",
       "18. 2\n",
       "19. 2\n",
       "20. 2\n",
       "21. 2\n",
       "22. 2\n",
       "23. 2\n",
       "24. 2\n",
       "25. 2\n",
       "\n",
       "\n"
      ],
      "text/plain": [
       " [1] 1 1 1 1 1 1 1 1 1 1 2 2 2 2 2 2 2 2 2 2 2 2 2 2 2"
      ]
     },
     "metadata": {},
     "output_type": "display_data"
    }
   ],
   "source": [
    "rep(1, 10)\n",
    "rep(1:2, c(10,15))"
   ]
  },
  {
   "cell_type": "code",
   "execution_count": 14,
   "id": "e1862be9",
   "metadata": {},
   "outputs": [
    {
     "data": {
      "text/html": [
       "<table>\n",
       "<tbody>\n",
       "\t<tr><td>0</td><td>0</td><td>0</td></tr>\n",
       "\t<tr><td>0</td><td>0</td><td>0</td></tr>\n",
       "</tbody>\n",
       "</table>\n"
      ],
      "text/latex": [
       "\\begin{tabular}{lll}\n",
       "\t 0 & 0 & 0\\\\\n",
       "\t 0 & 0 & 0\\\\\n",
       "\\end{tabular}\n"
      ],
      "text/markdown": [
       "\n",
       "| 0 | 0 | 0 |\n",
       "| 0 | 0 | 0 |\n",
       "\n"
      ],
      "text/plain": [
       "     [,1] [,2] [,3]\n",
       "[1,] 0    0    0   \n",
       "[2,] 0    0    0   "
      ]
     },
     "metadata": {},
     "output_type": "display_data"
    }
   ],
   "source": [
    "mat <- matrix(0,2,3)\n",
    "mat"
   ]
  },
  {
   "cell_type": "code",
   "execution_count": 16,
   "id": "a640aa8a",
   "metadata": {},
   "outputs": [
    {
     "data": {
      "text/html": [
       "<table>\n",
       "<tbody>\n",
       "\t<tr><td>111</td><td>222</td></tr>\n",
       "\t<tr><td>333</td><td>444</td></tr>\n",
       "</tbody>\n",
       "</table>\n"
      ],
      "text/latex": [
       "\\begin{tabular}{ll}\n",
       "\t 111 & 222\\\\\n",
       "\t 333 & 444\\\\\n",
       "\\end{tabular}\n"
      ],
      "text/markdown": [
       "\n",
       "| 111 | 222 |\n",
       "| 333 | 444 |\n",
       "\n"
      ],
      "text/plain": [
       "     [,1] [,2]\n",
       "[1,] 111  222 \n",
       "[2,] 333  444 "
      ]
     },
     "metadata": {},
     "output_type": "display_data"
    },
    {
     "data": {
      "text/html": [
       "<table>\n",
       "<tbody>\n",
       "\t<tr><td>111</td><td>333</td></tr>\n",
       "\t<tr><td>222</td><td>444</td></tr>\n",
       "</tbody>\n",
       "</table>\n"
      ],
      "text/latex": [
       "\\begin{tabular}{ll}\n",
       "\t 111 & 333\\\\\n",
       "\t 222 & 444\\\\\n",
       "\\end{tabular}\n"
      ],
      "text/markdown": [
       "\n",
       "| 111 | 333 |\n",
       "| 222 | 444 |\n",
       "\n"
      ],
      "text/plain": [
       "     [,1] [,2]\n",
       "[1,] 111  333 \n",
       "[2,] 222  444 "
      ]
     },
     "metadata": {},
     "output_type": "display_data"
    }
   ],
   "source": [
    "Mat2 <- rbind( c(111, 222), c(333, 444))\n",
    "Mat2\n",
    "Mat3 <- cbind( c(111, 222), c(333, 444))\n",
    "Mat3\n"
   ]
  },
  {
   "cell_type": "code",
   "execution_count": 19,
   "id": "75eb44a1",
   "metadata": {
    "scrolled": true
   },
   "outputs": [
    {
     "data": {
      "text/html": [
       "<table>\n",
       "<tbody>\n",
       "\t<tr><td>1 </td><td>2 </td><td>3 </td><td>4 </td><td> 5</td></tr>\n",
       "\t<tr><td>6 </td><td>7 </td><td>8 </td><td>9 </td><td>10</td></tr>\n",
       "</tbody>\n",
       "</table>\n"
      ],
      "text/latex": [
       "\\begin{tabular}{lllll}\n",
       "\t 1  & 2  & 3  & 4  &  5\\\\\n",
       "\t 6  & 7  & 8  & 9  & 10\\\\\n",
       "\\end{tabular}\n"
      ],
      "text/markdown": [
       "\n",
       "| 1  | 2  | 3  | 4  |  5 |\n",
       "| 6  | 7  | 8  | 9  | 10 |\n",
       "\n"
      ],
      "text/plain": [
       "     [,1] [,2] [,3] [,4] [,5]\n",
       "[1,] 1    2    3    4     5  \n",
       "[2,] 6    7    8    9    10  "
      ]
     },
     "metadata": {},
     "output_type": "display_data"
    }
   ],
   "source": [
    "Mat4 <-  matrix(1:10, 2, 5, byrow= T)\n",
    "Mat4"
   ]
  },
  {
   "cell_type": "code",
   "execution_count": 2,
   "id": "e1fa6d55",
   "metadata": {},
   "outputs": [
    {
     "data": {
      "text/html": [
       "<style>\n",
       ".list-inline {list-style: none; margin:0; padding: 0}\n",
       ".list-inline>li {display: inline-block}\n",
       ".list-inline>li:not(:last-child)::after {content: \"\\00b7\"; padding: 0 .5ex}\n",
       "</style>\n",
       "<ol class=list-inline><li>0</li><li>0.8</li><li>1.6</li><li>2.4</li><li>3.2</li><li>4</li></ol>\n"
      ],
      "text/latex": [
       "\\begin{enumerate*}\n",
       "\\item 0\n",
       "\\item 0.8\n",
       "\\item 1.6\n",
       "\\item 2.4\n",
       "\\item 3.2\n",
       "\\item 4\n",
       "\\end{enumerate*}\n"
      ],
      "text/markdown": [
       "1. 0\n",
       "2. 0.8\n",
       "3. 1.6\n",
       "4. 2.4\n",
       "5. 3.2\n",
       "6. 4\n",
       "\n",
       "\n"
      ],
      "text/plain": [
       "[1] 0.0 0.8 1.6 2.4 3.2 4.0"
      ]
     },
     "metadata": {},
     "output_type": "display_data"
    }
   ],
   "source": [
    "seq(0, 4, length.out=6)\n"
   ]
  },
  {
   "cell_type": "code",
   "execution_count": 9,
   "id": "baf806c7",
   "metadata": {},
   "outputs": [
    {
     "data": {
      "text/html": [
       "<dl>\n",
       "\t<dt>$m1</dt>\n",
       "\t\t<dd><style>\n",
       ".list-inline {list-style: none; margin:0; padding: 0}\n",
       ".list-inline>li {display: inline-block}\n",
       ".list-inline>li:not(:last-child)::after {content: \"\\00b7\"; padding: 0 .5ex}\n",
       "</style>\n",
       "<ol class=list-inline><li>2</li><li>3</li></ol>\n",
       "</dd>\n",
       "\t<dt>$m2</dt>\n",
       "\t\t<dd><style>\n",
       ".list-inline {list-style: none; margin:0; padding: 0}\n",
       ".list-inline>li {display: inline-block}\n",
       ".list-inline>li:not(:last-child)::after {content: \"\\00b7\"; padding: 0 .5ex}\n",
       "</style>\n",
       "<ol class=list-inline><li>2</li><li>3</li><li>4</li></ol>\n",
       "</dd>\n",
       "</dl>\n"
      ],
      "text/latex": [
       "\\begin{description}\n",
       "\\item[\\$m1] \\begin{enumerate*}\n",
       "\\item 2\n",
       "\\item 3\n",
       "\\end{enumerate*}\n",
       "\n",
       "\\item[\\$m2] \\begin{enumerate*}\n",
       "\\item 2\n",
       "\\item 3\n",
       "\\item 4\n",
       "\\end{enumerate*}\n",
       "\n",
       "\\end{description}\n"
      ],
      "text/markdown": [
       "$m1\n",
       ":   1. 2\n",
       "2. 3\n",
       "\n",
       "\n",
       "\n",
       "$m2\n",
       ":   1. 2\n",
       "2. 3\n",
       "3. 4\n",
       "\n",
       "\n",
       "\n",
       "\n",
       "\n"
      ],
      "text/plain": [
       "$m1\n",
       "[1] 2 3\n",
       "\n",
       "$m2\n",
       "[1] 2 3 4\n"
      ]
     },
     "metadata": {},
     "output_type": "display_data"
    }
   ],
   "source": [
    "list_0 <- list(m1 = rbind(c(2, 4), c(3, 5)), m2 = rbind(c(2, 5), c(3, 6), c(4, 7)))\n",
    "f <- function(a){\n",
    "    a[,1]\n",
    "}\n",
    "lapply(list_0, f)"
   ]
  },
  {
   "cell_type": "code",
   "execution_count": 10,
   "id": "f1e2a912",
   "metadata": {},
   "outputs": [],
   "source": [
    "data(rivers)"
   ]
  },
  {
   "cell_type": "code",
   "execution_count": 11,
   "id": "689deab3",
   "metadata": {},
   "outputs": [
    {
     "data": {
      "text/html": [
       "<style>\n",
       ".list-inline {list-style: none; margin:0; padding: 0}\n",
       ".list-inline>li {display: inline-block}\n",
       ".list-inline>li:not(:last-child)::after {content: \"\\00b7\"; padding: 0 .5ex}\n",
       "</style>\n",
       "<ol class=list-inline><li>735</li><li>320</li><li>325</li><li>392</li><li>524</li><li>450</li></ol>\n"
      ],
      "text/latex": [
       "\\begin{enumerate*}\n",
       "\\item 735\n",
       "\\item 320\n",
       "\\item 325\n",
       "\\item 392\n",
       "\\item 524\n",
       "\\item 450\n",
       "\\end{enumerate*}\n"
      ],
      "text/markdown": [
       "1. 735\n",
       "2. 320\n",
       "3. 325\n",
       "4. 392\n",
       "5. 524\n",
       "6. 450\n",
       "\n",
       "\n"
      ],
      "text/plain": [
       "[1] 735 320 325 392 524 450"
      ]
     },
     "metadata": {},
     "output_type": "display_data"
    }
   ],
   "source": [
    "head(rivers)"
   ]
  },
  {
   "cell_type": "code",
   "execution_count": 12,
   "id": "6ed13713",
   "metadata": {},
   "outputs": [
    {
     "data": {
      "text/html": [
       "<style>\n",
       ".list-inline {list-style: none; margin:0; padding: 0}\n",
       ".list-inline>li {display: inline-block}\n",
       ".list-inline>li:not(:last-child)::after {content: \"\\00b7\"; padding: 0 .5ex}\n",
       "</style>\n",
       "<ol class=list-inline><li>735</li><li>320</li><li>325</li><li>392</li><li>524</li><li>450</li><li>1459</li><li>135</li><li>465</li><li>600</li><li>330</li><li>336</li><li>280</li><li>315</li><li>870</li><li>906</li><li>202</li><li>329</li><li>290</li><li>1000</li><li>600</li><li>505</li><li>1450</li><li>840</li><li>1243</li><li>890</li><li>350</li><li>407</li><li>286</li><li>280</li><li>525</li><li>720</li><li>390</li><li>250</li><li>327</li><li>230</li><li>265</li><li>850</li><li>210</li><li>630</li><li>260</li><li>230</li><li>360</li><li>730</li><li>600</li><li>306</li><li>390</li><li>420</li><li>291</li><li>710</li><li>340</li><li>217</li><li>281</li><li>352</li><li>259</li><li>250</li><li>470</li><li>680</li><li>570</li><li>350</li><li>300</li><li>560</li><li>900</li><li>625</li><li>332</li><li>2348</li><li>1171</li><li>3710</li><li>2315</li><li>2533</li><li>780</li><li>280</li><li>410</li><li>460</li><li>260</li><li>255</li><li>431</li><li>350</li><li>760</li><li>618</li><li>338</li><li>981</li><li>1306</li><li>500</li><li>696</li><li>605</li><li>250</li><li>411</li><li>1054</li><li>735</li><li>233</li><li>435</li><li>490</li><li>310</li><li>460</li><li>383</li><li>375</li><li>1270</li><li>545</li><li>445</li><li>1885</li><li>380</li><li>300</li><li>380</li><li>377</li><li>425</li><li>276</li><li>210</li><li>800</li><li>420</li><li>350</li><li>360</li><li>538</li><li>1100</li><li>1205</li><li>314</li><li>237</li><li>610</li><li>360</li><li>540</li><li>1038</li><li>424</li><li>310</li><li>300</li><li>444</li><li>301</li><li>268</li><li>620</li><li>215</li><li>652</li><li>900</li><li>525</li><li>246</li><li>360</li><li>529</li><li>500</li><li>720</li><li>270</li><li>430</li><li>671</li><li>1770</li></ol>\n"
      ],
      "text/latex": [
       "\\begin{enumerate*}\n",
       "\\item 735\n",
       "\\item 320\n",
       "\\item 325\n",
       "\\item 392\n",
       "\\item 524\n",
       "\\item 450\n",
       "\\item 1459\n",
       "\\item 135\n",
       "\\item 465\n",
       "\\item 600\n",
       "\\item 330\n",
       "\\item 336\n",
       "\\item 280\n",
       "\\item 315\n",
       "\\item 870\n",
       "\\item 906\n",
       "\\item 202\n",
       "\\item 329\n",
       "\\item 290\n",
       "\\item 1000\n",
       "\\item 600\n",
       "\\item 505\n",
       "\\item 1450\n",
       "\\item 840\n",
       "\\item 1243\n",
       "\\item 890\n",
       "\\item 350\n",
       "\\item 407\n",
       "\\item 286\n",
       "\\item 280\n",
       "\\item 525\n",
       "\\item 720\n",
       "\\item 390\n",
       "\\item 250\n",
       "\\item 327\n",
       "\\item 230\n",
       "\\item 265\n",
       "\\item 850\n",
       "\\item 210\n",
       "\\item 630\n",
       "\\item 260\n",
       "\\item 230\n",
       "\\item 360\n",
       "\\item 730\n",
       "\\item 600\n",
       "\\item 306\n",
       "\\item 390\n",
       "\\item 420\n",
       "\\item 291\n",
       "\\item 710\n",
       "\\item 340\n",
       "\\item 217\n",
       "\\item 281\n",
       "\\item 352\n",
       "\\item 259\n",
       "\\item 250\n",
       "\\item 470\n",
       "\\item 680\n",
       "\\item 570\n",
       "\\item 350\n",
       "\\item 300\n",
       "\\item 560\n",
       "\\item 900\n",
       "\\item 625\n",
       "\\item 332\n",
       "\\item 2348\n",
       "\\item 1171\n",
       "\\item 3710\n",
       "\\item 2315\n",
       "\\item 2533\n",
       "\\item 780\n",
       "\\item 280\n",
       "\\item 410\n",
       "\\item 460\n",
       "\\item 260\n",
       "\\item 255\n",
       "\\item 431\n",
       "\\item 350\n",
       "\\item 760\n",
       "\\item 618\n",
       "\\item 338\n",
       "\\item 981\n",
       "\\item 1306\n",
       "\\item 500\n",
       "\\item 696\n",
       "\\item 605\n",
       "\\item 250\n",
       "\\item 411\n",
       "\\item 1054\n",
       "\\item 735\n",
       "\\item 233\n",
       "\\item 435\n",
       "\\item 490\n",
       "\\item 310\n",
       "\\item 460\n",
       "\\item 383\n",
       "\\item 375\n",
       "\\item 1270\n",
       "\\item 545\n",
       "\\item 445\n",
       "\\item 1885\n",
       "\\item 380\n",
       "\\item 300\n",
       "\\item 380\n",
       "\\item 377\n",
       "\\item 425\n",
       "\\item 276\n",
       "\\item 210\n",
       "\\item 800\n",
       "\\item 420\n",
       "\\item 350\n",
       "\\item 360\n",
       "\\item 538\n",
       "\\item 1100\n",
       "\\item 1205\n",
       "\\item 314\n",
       "\\item 237\n",
       "\\item 610\n",
       "\\item 360\n",
       "\\item 540\n",
       "\\item 1038\n",
       "\\item 424\n",
       "\\item 310\n",
       "\\item 300\n",
       "\\item 444\n",
       "\\item 301\n",
       "\\item 268\n",
       "\\item 620\n",
       "\\item 215\n",
       "\\item 652\n",
       "\\item 900\n",
       "\\item 525\n",
       "\\item 246\n",
       "\\item 360\n",
       "\\item 529\n",
       "\\item 500\n",
       "\\item 720\n",
       "\\item 270\n",
       "\\item 430\n",
       "\\item 671\n",
       "\\item 1770\n",
       "\\end{enumerate*}\n"
      ],
      "text/markdown": [
       "1. 735\n",
       "2. 320\n",
       "3. 325\n",
       "4. 392\n",
       "5. 524\n",
       "6. 450\n",
       "7. 1459\n",
       "8. 135\n",
       "9. 465\n",
       "10. 600\n",
       "11. 330\n",
       "12. 336\n",
       "13. 280\n",
       "14. 315\n",
       "15. 870\n",
       "16. 906\n",
       "17. 202\n",
       "18. 329\n",
       "19. 290\n",
       "20. 1000\n",
       "21. 600\n",
       "22. 505\n",
       "23. 1450\n",
       "24. 840\n",
       "25. 1243\n",
       "26. 890\n",
       "27. 350\n",
       "28. 407\n",
       "29. 286\n",
       "30. 280\n",
       "31. 525\n",
       "32. 720\n",
       "33. 390\n",
       "34. 250\n",
       "35. 327\n",
       "36. 230\n",
       "37. 265\n",
       "38. 850\n",
       "39. 210\n",
       "40. 630\n",
       "41. 260\n",
       "42. 230\n",
       "43. 360\n",
       "44. 730\n",
       "45. 600\n",
       "46. 306\n",
       "47. 390\n",
       "48. 420\n",
       "49. 291\n",
       "50. 710\n",
       "51. 340\n",
       "52. 217\n",
       "53. 281\n",
       "54. 352\n",
       "55. 259\n",
       "56. 250\n",
       "57. 470\n",
       "58. 680\n",
       "59. 570\n",
       "60. 350\n",
       "61. 300\n",
       "62. 560\n",
       "63. 900\n",
       "64. 625\n",
       "65. 332\n",
       "66. 2348\n",
       "67. 1171\n",
       "68. 3710\n",
       "69. 2315\n",
       "70. 2533\n",
       "71. 780\n",
       "72. 280\n",
       "73. 410\n",
       "74. 460\n",
       "75. 260\n",
       "76. 255\n",
       "77. 431\n",
       "78. 350\n",
       "79. 760\n",
       "80. 618\n",
       "81. 338\n",
       "82. 981\n",
       "83. 1306\n",
       "84. 500\n",
       "85. 696\n",
       "86. 605\n",
       "87. 250\n",
       "88. 411\n",
       "89. 1054\n",
       "90. 735\n",
       "91. 233\n",
       "92. 435\n",
       "93. 490\n",
       "94. 310\n",
       "95. 460\n",
       "96. 383\n",
       "97. 375\n",
       "98. 1270\n",
       "99. 545\n",
       "100. 445\n",
       "101. 1885\n",
       "102. 380\n",
       "103. 300\n",
       "104. 380\n",
       "105. 377\n",
       "106. 425\n",
       "107. 276\n",
       "108. 210\n",
       "109. 800\n",
       "110. 420\n",
       "111. 350\n",
       "112. 360\n",
       "113. 538\n",
       "114. 1100\n",
       "115. 1205\n",
       "116. 314\n",
       "117. 237\n",
       "118. 610\n",
       "119. 360\n",
       "120. 540\n",
       "121. 1038\n",
       "122. 424\n",
       "123. 310\n",
       "124. 300\n",
       "125. 444\n",
       "126. 301\n",
       "127. 268\n",
       "128. 620\n",
       "129. 215\n",
       "130. 652\n",
       "131. 900\n",
       "132. 525\n",
       "133. 246\n",
       "134. 360\n",
       "135. 529\n",
       "136. 500\n",
       "137. 720\n",
       "138. 270\n",
       "139. 430\n",
       "140. 671\n",
       "141. 1770\n",
       "\n",
       "\n"
      ],
      "text/plain": [
       "  [1]  735  320  325  392  524  450 1459  135  465  600  330  336  280  315  870\n",
       " [16]  906  202  329  290 1000  600  505 1450  840 1243  890  350  407  286  280\n",
       " [31]  525  720  390  250  327  230  265  850  210  630  260  230  360  730  600\n",
       " [46]  306  390  420  291  710  340  217  281  352  259  250  470  680  570  350\n",
       " [61]  300  560  900  625  332 2348 1171 3710 2315 2533  780  280  410  460  260\n",
       " [76]  255  431  350  760  618  338  981 1306  500  696  605  250  411 1054  735\n",
       " [91]  233  435  490  310  460  383  375 1270  545  445 1885  380  300  380  377\n",
       "[106]  425  276  210  800  420  350  360  538 1100 1205  314  237  610  360  540\n",
       "[121] 1038  424  310  300  444  301  268  620  215  652  900  525  246  360  529\n",
       "[136]  500  720  270  430  671 1770"
      ]
     },
     "metadata": {},
     "output_type": "display_data"
    }
   ],
   "source": [
    "rivers"
   ]
  },
  {
   "cell_type": "code",
   "execution_count": 15,
   "id": "44335fef",
   "metadata": {},
   "outputs": [
    {
     "data": {
      "text/html": [
       "141"
      ],
      "text/latex": [
       "141"
      ],
      "text/markdown": [
       "141"
      ],
      "text/plain": [
       "[1] 141"
      ]
     },
     "metadata": {},
     "output_type": "display_data"
    }
   ],
   "source": [
    "length(rivers)"
   ]
  },
  {
   "cell_type": "code",
   "execution_count": 17,
   "id": "465108ba",
   "metadata": {},
   "outputs": [
    {
     "data": {
      "text/html": [
       "1770"
      ],
      "text/latex": [
       "1770"
      ],
      "text/markdown": [
       "1770"
      ],
      "text/plain": [
       "[1] 1770"
      ]
     },
     "metadata": {},
     "output_type": "display_data"
    }
   ],
   "source": [
    "rivers[141]"
   ]
  },
  {
   "cell_type": "code",
   "execution_count": 18,
   "id": "e8150181",
   "metadata": {},
   "outputs": [
    {
     "data": {
      "text/html": [
       "591.184397163121"
      ],
      "text/latex": [
       "591.184397163121"
      ],
      "text/markdown": [
       "591.184397163121"
      ],
      "text/plain": [
       "[1] 591.1844"
      ]
     },
     "metadata": {},
     "output_type": "display_data"
    }
   ],
   "source": [
    "mean(rivers)"
   ]
  },
  {
   "cell_type": "code",
   "execution_count": 19,
   "id": "228e5cfc",
   "metadata": {},
   "outputs": [
    {
     "data": {
      "text/html": [
       "135"
      ],
      "text/latex": [
       "135"
      ],
      "text/markdown": [
       "135"
      ],
      "text/plain": [
       "[1] 135"
      ]
     },
     "metadata": {},
     "output_type": "display_data"
    }
   ],
   "source": [
    "min(rivers)"
   ]
  },
  {
   "cell_type": "code",
   "execution_count": 20,
   "id": "e3985af9",
   "metadata": {},
   "outputs": [
    {
     "data": {
      "text/html": [
       "3710"
      ],
      "text/latex": [
       "3710"
      ],
      "text/markdown": [
       "3710"
      ],
      "text/plain": [
       "[1] 3710"
      ]
     },
     "metadata": {},
     "output_type": "display_data"
    }
   ],
   "source": [
    "max(rivers)"
   ]
  },
  {
   "cell_type": "code",
   "execution_count": 22,
   "id": "3e42e9e0",
   "metadata": {},
   "outputs": [
    {
     "data": {
      "text/html": [
       "'odd'"
      ],
      "text/latex": [
       "'odd'"
      ],
      "text/markdown": [
       "'odd'"
      ],
      "text/plain": [
       "[1] \"odd\""
      ]
     },
     "metadata": {},
     "output_type": "display_data"
    },
    {
     "data": {
      "text/html": [
       "'even'"
      ],
      "text/latex": [
       "'even'"
      ],
      "text/markdown": [
       "'even'"
      ],
      "text/plain": [
       "[1] \"even\""
      ]
     },
     "metadata": {},
     "output_type": "display_data"
    }
   ],
   "source": [
    "evenOdd <- function(num){\n",
    "    ifelse(num %% 2 == 0, \"even\", \"odd\")\n",
    "}\n",
    "evenOdd(13)\n",
    "evenOdd(14)"
   ]
  },
  {
   "cell_type": "code",
   "execution_count": 25,
   "id": "0400b219",
   "metadata": {},
   "outputs": [
    {
     "data": {
      "image/png": "[encoded data removed]",
      "text/plain": [
       "plot without title"
      ]
     },
     "metadata": {
      "image/png": {
       "height": 420,
       "width": 420
      }
     },
     "output_type": "display_data"
    }
   ],
   "source": [
    "plot(cos(seq(-2*pi, 2*pi)))"
   ]
  },
  {
   "cell_type": "code",
   "execution_count": 26,
   "id": "26453069",
   "metadata": {},
   "outputs": [
    {
     "data": {
      "text/html": [
       "<table class=\"dataframe\">\n",
       "<caption>A matrix: 3 × 3 of type dbl</caption>\n",
       "<tbody>\n",
       "\t<tr><td>10</td><td>11</td><td>12</td></tr>\n",
       "\t<tr><td>13</td><td>14</td><td>15</td></tr>\n",
       "\t<tr><td>16</td><td>17</td><td>18</td></tr>\n",
       "</tbody>\n",
       "</table>\n"
      ],
      "text/latex": [
       "A matrix: 3 × 3 of type dbl\n",
       "\\begin{tabular}{lll}\n",
       "\t 10 & 11 & 12\\\\\n",
       "\t 13 & 14 & 15\\\\\n",
       "\t 16 & 17 & 18\\\\\n",
       "\\end{tabular}\n"
      ],
      "text/markdown": [
       "\n",
       "A matrix: 3 × 3 of type dbl\n",
       "\n",
       "| 10 | 11 | 12 |\n",
       "| 13 | 14 | 15 |\n",
       "| 16 | 17 | 18 |\n",
       "\n"
      ],
      "text/plain": [
       "     [,1] [,2] [,3]\n",
       "[1,] 10   11   12  \n",
       "[2,] 13   14   15  \n",
       "[3,] 16   17   18  "
      ]
     },
     "metadata": {},
     "output_type": "display_data"
    }
   ],
   "source": [
    "data <- c(10,11,12,13,14,15,16,17,18)\n",
    "matrix_0 <- matrix(data, 3, 3, byrow=T)\n",
    "matrix_0"
   ]
  },
  {
   "cell_type": "code",
   "execution_count": 28,
   "id": "85b5abca",
   "metadata": {},
   "outputs": [
    {
     "data": {
      "image/png": "[encoded data removed]",
      "text/plain": [
       "Plot with title \"numbers\""
      ]
     },
     "metadata": {
      "image/png": {
       "height": 420,
       "width": 420
      }
     },
     "output_type": "display_data"
    }
   ],
   "source": [
    "data <- c(601, 461, 435, 431, 404, 357, 339, 330, 329, 318, 313, 311, 309, 306, 294, 290, 286,\n",
    "268, 262, 260, 260, 257, 256, 251, 250, 246, 242, 242, 241, 239, 235, 234, 233, 229,\n",
    "228, 226, 219, 218, 217, 216, 215, 213, 211, 207, 206, 205, 202, 202, 199, 199, 197,\n",
    "194, 192, 191, 190, 188, 185, 184, 184, 184, 183, 183, 183, 181, 181, 181, 181, 180,\n",
    "180, 178, 177, 177, 176, 176, 175, 174, 173, 173, 172)\n",
    "boxplot(data, main=\"numbers\")\n",
    "f=fivenum(data)\n",
    "text(rep(1.3,5), f, labels=c(\"min\",\"Q1\",\"median\",\"Q3\",\"max\"))"
   ]
  },
  {
   "cell_type": "code",
   "execution_count": 29,
   "id": "323a5139",
   "metadata": {},
   "outputs": [
    {
     "name": "stdout",
     "output_type": "stream",
     "text": [
      "function (x, na.rm = FALSE)  \n"
     ]
    }
   ],
   "source": [
    "str(sd)\n"
   ]
  },
  {
   "cell_type": "code",
   "execution_count": 30,
   "id": "94cf8667",
   "metadata": {},
   "outputs": [
    {
     "data": {
      "text/html": [
       "'hello world'"
      ],
      "text/latex": [
       "'hello world'"
      ],
      "text/markdown": [
       "'hello world'"
      ],
      "text/plain": [
       "[1] \"hello world\""
      ]
     },
     "metadata": {},
     "output_type": "display_data"
    },
    {
     "data": {
      "text/html": [
       "'hello world'"
      ],
      "text/latex": [
       "'hello world'"
      ],
      "text/markdown": [
       "'hello world'"
      ],
      "text/plain": [
       "[1] \"hello world\""
      ]
     },
     "metadata": {},
     "output_type": "display_data"
    },
    {
     "name": "stdout",
     "output_type": "stream",
     "text": [
      "[1] \"hello world\"\n"
     ]
    }
   ],
   "source": [
    "\"hello world\"\n",
    "'hello world'\n",
    "print('hello world')"
   ]
  },
  {
   "cell_type": "code",
   "execution_count": 31,
   "id": "bb4b1275",
   "metadata": {},
   "outputs": [
    {
     "data": {
      "text/html": [
       "'logical'"
      ],
      "text/latex": [
       "'logical'"
      ],
      "text/markdown": [
       "'logical'"
      ],
      "text/plain": [
       "[1] \"logical\""
      ]
     },
     "metadata": {},
     "output_type": "display_data"
    }
   ],
   "source": [
    "typeof(NA)"
   ]
  },
  {
   "cell_type": "code",
   "execution_count": 32,
   "id": "65acd7cc",
   "metadata": {},
   "outputs": [],
   "source": [
    "?NA\n"
   ]
  },
  {
   "cell_type": "code",
   "execution_count": 33,
   "id": "557fb8f0",
   "metadata": {},
   "outputs": [
    {
     "data": {
      "text/html": [
       "<style>\n",
       ".list-inline {list-style: none; margin:0; padding: 0}\n",
       ".list-inline>li {display: inline-block}\n",
       ".list-inline>li:not(:last-child)::after {content: \"\\00b7\"; padding: 0 .5ex}\n",
       "</style>\n",
       "<ol class=list-inline><li>FALSE</li><li>TRUE</li><li>FALSE</li><li>TRUE</li><li>FALSE</li><li>FALSE</li><li>FALSE</li><li>TRUE</li><li>FALSE</li></ol>\n"
      ],
      "text/latex": [
       "\\begin{enumerate*}\n",
       "\\item FALSE\n",
       "\\item TRUE\n",
       "\\item FALSE\n",
       "\\item TRUE\n",
       "\\item FALSE\n",
       "\\item FALSE\n",
       "\\item FALSE\n",
       "\\item TRUE\n",
       "\\item FALSE\n",
       "\\end{enumerate*}\n"
      ],
      "text/markdown": [
       "1. FALSE\n",
       "2. TRUE\n",
       "3. FALSE\n",
       "4. TRUE\n",
       "5. FALSE\n",
       "6. FALSE\n",
       "7. FALSE\n",
       "8. TRUE\n",
       "9. FALSE\n",
       "\n",
       "\n"
      ],
      "text/plain": [
       "[1] FALSE  TRUE FALSE  TRUE FALSE FALSE FALSE  TRUE FALSE"
      ]
     },
     "metadata": {},
     "output_type": "display_data"
    }
   ],
   "source": [
    "X <- 1:9\n",
    "X %in% c(0, 2, 4, 8)"
   ]
  },
  {
   "cell_type": "code",
   "execution_count": 36,
   "id": "04648d02",
   "metadata": {},
   "outputs": [
    {
     "data": {
      "text/html": [
       "2.5"
      ],
      "text/latex": [
       "2.5"
      ],
      "text/markdown": [
       "2.5"
      ],
      "text/plain": [
       "[1] 2.5"
      ]
     },
     "metadata": {},
     "output_type": "display_data"
    }
   ],
   "source": [
    "mean(c(2, NA, 3, 1, 4, NA), na.rm=T)"
   ]
  },
  {
   "cell_type": "code",
   "execution_count": null,
   "id": "9f0fb7c0",
   "metadata": {},
   "outputs": [],
   "source": []
  }
 ],
 "metadata": {
  "kernelspec": {
   "display_name": "R",
   "language": "R",
   "name": "ir"
  },
  "language_info": {
   "codemirror_mode": "r",
   "file_extension": ".r",
   "mimetype": "text/x-r-source",
   "name": "R",
   "pygments_lexer": "r",
   "version": "4.1.3"
  }
 },
 "nbformat": 4,
 "nbformat_minor": 5
}

{
 "cells": [
  {
   "cell_type": "code",
   "execution_count": 5,
   "id": "4da47e0c",
   "metadata": {},
   "outputs": [
    {
     "name": "stderr",
     "output_type": "stream",
     "text": [
      "also installing the dependencies 'deldir', 'RcppEigen', 'png', 'jpeg', 'interp', 'checkmate', 'viridisLite', 'survival', 'Formula', 'latticeExtra', 'gridExtra', 'htmlTable', 'viridis', 'HistData', 'Hmisc'\n",
      "\n"
     ]
    },
    {
     "name": "stdout",
     "output_type": "stream",
     "text": [
      "\n",
      "  There are binary versions available but the source versions are later:\n",
      "                binary    source needs_compilation\n",
      "deldir          0.2-10     1.0-6              TRUE\n",
      "RcppEigen    0.3.3.9.1 0.3.3.9.2              TRUE\n",
      "jpeg           0.1-8.1     0.1-9              TRUE\n",
      "interp          1.0-33     1.1-3              TRUE\n",
      "checkmate        2.0.0     2.1.0              TRUE\n",
      "viridisLite      0.4.0     0.4.1             FALSE\n",
      "survival        3.2-11     3.4-0              TRUE\n",
      "latticeExtra    0.6-29    0.6-30             FALSE\n",
      "htmlTable        2.1.0     2.4.1             FALSE\n",
      "viridis          0.6.1     0.6.2             FALSE\n",
      "Hmisc            4.5-0     4.7-1              TRUE\n",
      "UsingR           2.0-6     2.0-7             FALSE\n",
      "\n",
      "  Binaries will be installed\n",
      "package 'deldir' successfully unpacked and MD5 sums checked\n",
      "package 'RcppEigen' successfully unpacked and MD5 sums checked\n",
      "package 'png' successfully unpacked and MD5 sums checked\n",
      "package 'jpeg' successfully unpacked and MD5 sums checked\n",
      "package 'interp' successfully unpacked and MD5 sums checked\n",
      "package 'checkmate' successfully unpacked and MD5 sums checked\n",
      "package 'survival' successfully unpacked and MD5 sums checked\n",
      "package 'Formula' successfully unpacked and MD5 sums checked\n",
      "package 'gridExtra' successfully unpacked and MD5 sums checked\n",
      "package 'HistData' successfully unpacked and MD5 sums checked\n",
      "package 'Hmisc' successfully unpacked and MD5 sums checked\n",
      "\n",
      "The downloaded binary packages are in\n",
      "\tC:\\Users\\shash\\AppData\\Local\\Temp\\RtmpeEPIQu\\downloaded_packages\n"
     ]
    },
    {
     "name": "stderr",
     "output_type": "stream",
     "text": [
      "installing the source packages 'viridisLite', 'latticeExtra', 'htmlTable', 'viridis', 'UsingR'\n",
      "\n"
     ]
    },
    {
     "name": "stdout",
     "output_type": "stream",
     "text": [
      "package 'ISwR' successfully unpacked and MD5 sums checked\n",
      "\n",
      "The downloaded binary packages are in\n",
      "\tC:\\Users\\shash\\AppData\\Local\\Temp\\RtmpeEPIQu\\downloaded_packages\n"
     ]
    }
   ],
   "source": [
    "#slide 32\n",
    "install.packages(\"UsingR\")\n",
    "install.packages(\"ISwR\")"
   ]
  },
  {
   "cell_type": "code",
   "execution_count": 58,
   "id": "3917806b",
   "metadata": {},
   "outputs": [
    {
     "name": "stderr",
     "output_type": "stream",
     "text": [
      "Loading required package: HistData\n",
      "Warning message:\n",
      "\"package 'HistData' was built under R version 3.6.3\"Loading required package: Hmisc\n",
      "Warning message:\n",
      "\"package 'Hmisc' was built under R version 3.6.3\"Loading required package: lattice\n",
      "Loading required package: survival\n",
      "Warning message:\n",
      "\"package 'survival' was built under R version 3.6.3\"Loading required package: Formula\n",
      "Warning message:\n",
      "\"package 'Formula' was built under R version 3.6.3\"Loading required package: ggplot2\n",
      "Registered S3 methods overwritten by 'ggplot2':\n",
      "  method         from \n",
      "  [.quosures     rlang\n",
      "  c.quosures     rlang\n",
      "  print.quosures rlang\n",
      "\n",
      "Attaching package: 'Hmisc'\n",
      "\n",
      "The following objects are masked from 'package:base':\n",
      "\n",
      "    format.pval, units\n",
      "\n",
      "\n",
      "Attaching package: 'UsingR'\n",
      "\n",
      "The following object is masked from 'package:survival':\n",
      "\n",
      "    cancer\n",
      "\n",
      "Warning message:\n",
      "\"package 'ISwR' was built under R version 3.6.3\"\n",
      "Attaching package: 'ISwR'\n",
      "\n",
      "The following object is masked from 'package:survival':\n",
      "\n",
      "    lung\n",
      "\n"
     ]
    }
   ],
   "source": [
    "#slide 32\n",
    "library(UsingR)\n",
    "library(ISwR)"
   ]
  },
  {
   "cell_type": "code",
   "execution_count": 4,
   "id": "7c5b1363",
   "metadata": {},
   "outputs": [
    {
     "name": "stdout",
     "output_type": "stream",
     "text": [
      "\n",
      "> print(\"hello world\")\n",
      "[1] \"hello world\"\n"
     ]
    }
   ],
   "source": [
    "#slide 10\n",
    "source(\"helloWorld.R\", echo=T)"
   ]
  },
  {
   "cell_type": "code",
   "execution_count": 14,
   "id": "83eeb6bd",
   "metadata": {},
   "outputs": [
    {
     "data": {
      "text/html": [
       "7"
      ],
      "text/latex": [
       "7"
      ],
      "text/markdown": [
       "7"
      ],
      "text/plain": [
       "[1] 7"
      ]
     },
     "metadata": {},
     "output_type": "display_data"
    },
    {
     "data": {
      "text/html": [
       "9"
      ],
      "text/latex": [
       "9"
      ],
      "text/markdown": [
       "9"
      ],
      "text/plain": [
       "[1] 9"
      ]
     },
     "metadata": {},
     "output_type": "display_data"
    },
    {
     "data": {
      "text/html": [
       "<ol class=list-inline>\n",
       "\t<li>91</li>\n",
       "\t<li>92</li>\n",
       "\t<li>93</li>\n",
       "\t<li>94</li>\n",
       "\t<li>95</li>\n",
       "\t<li>96</li>\n",
       "\t<li>97</li>\n",
       "\t<li>98</li>\n",
       "\t<li>99</li>\n",
       "\t<li>100</li>\n",
       "</ol>\n"
      ],
      "text/latex": [
       "\\begin{enumerate*}\n",
       "\\item 91\n",
       "\\item 92\n",
       "\\item 93\n",
       "\\item 94\n",
       "\\item 95\n",
       "\\item 96\n",
       "\\item 97\n",
       "\\item 98\n",
       "\\item 99\n",
       "\\item 100\n",
       "\\end{enumerate*}\n"
      ],
      "text/markdown": [
       "1. 91\n",
       "2. 92\n",
       "3. 93\n",
       "4. 94\n",
       "5. 95\n",
       "6. 96\n",
       "7. 97\n",
       "8. 98\n",
       "9. 99\n",
       "10. 100\n",
       "\n",
       "\n"
      ],
      "text/plain": [
       " [1]  91  92  93  94  95  96  97  98  99 100"
      ]
     },
     "metadata": {},
     "output_type": "display_data"
    },
    {
     "data": {
      "image/png": "[encoded data removed]",
      "text/plain": [
       "plot without title"
      ]
     },
     "metadata": {},
     "output_type": "display_data"
    }
   ],
   "source": [
    "#slide 11\n",
    "log2(128)\n",
    "sqrt(81)\n",
    "seq(91, 100, length = 10)\n",
    "plot(cos(seq(0, 2*pi, length = 50)))"
   ]
  },
  {
   "cell_type": "code",
   "execution_count": 1,
   "id": "dcf26425",
   "metadata": {},
   "outputs": [
    {
     "data": {
      "text/html": [
       "43"
      ],
      "text/latex": [
       "43"
      ],
      "text/markdown": [
       "43"
      ],
      "text/plain": [
       "[1] 43"
      ]
     },
     "metadata": {},
     "output_type": "display_data"
    },
    {
     "data": {
      "text/html": [
       "78"
      ],
      "text/latex": [
       "78"
      ],
      "text/markdown": [
       "78"
      ],
      "text/plain": [
       "[1] 78"
      ]
     },
     "metadata": {},
     "output_type": "display_data"
    }
   ],
   "source": [
    "#slide 13\n",
    "10+33\n",
    "testVar <- 100 - 22\n",
    "testVar"
   ]
  },
  {
   "cell_type": "code",
   "execution_count": 78,
   "id": "5bbe71bc",
   "metadata": {},
   "outputs": [
    {
     "data": {
      "text/html": [
       "9"
      ],
      "text/latex": [
       "9"
      ],
      "text/markdown": [
       "9"
      ],
      "text/plain": [
       "[1] 9"
      ]
     },
     "metadata": {},
     "output_type": "display_data"
    },
    {
     "data": {
      "text/html": [
       "<ol class=list-inline>\n",
       "\t<li>'USD'</li>\n",
       "\t<li>'Yen'</li>\n",
       "\t<li>'Pesos'</li>\n",
       "\t<li>'Rupees'</li>\n",
       "</ol>\n"
      ],
      "text/latex": [
       "\\begin{enumerate*}\n",
       "\\item 'USD'\n",
       "\\item 'Yen'\n",
       "\\item 'Pesos'\n",
       "\\item 'Rupees'\n",
       "\\end{enumerate*}\n"
      ],
      "text/markdown": [
       "1. 'USD'\n",
       "2. 'Yen'\n",
       "3. 'Pesos'\n",
       "4. 'Rupees'\n",
       "\n",
       "\n"
      ],
      "text/plain": [
       "[1] \"USD\"    \"Yen\"    \"Pesos\"  \"Rupees\""
      ]
     },
     "metadata": {},
     "output_type": "display_data"
    },
    {
     "data": {
      "text/html": [
       "<ol class=list-inline>\n",
       "\t<li>0</li>\n",
       "\t<li>1</li>\n",
       "\t<li>1</li>\n",
       "\t<li>1</li>\n",
       "\t<li>0</li>\n",
       "\t<li>1</li>\n",
       "\t<li>0</li>\n",
       "\t<li>1</li>\n",
       "</ol>\n"
      ],
      "text/latex": [
       "\\begin{enumerate*}\n",
       "\\item 0\n",
       "\\item 1\n",
       "\\item 1\n",
       "\\item 1\n",
       "\\item 0\n",
       "\\item 1\n",
       "\\item 0\n",
       "\\item 1\n",
       "\\end{enumerate*}\n"
      ],
      "text/markdown": [
       "1. 0\n",
       "2. 1\n",
       "3. 1\n",
       "4. 1\n",
       "5. 0\n",
       "6. 1\n",
       "7. 0\n",
       "8. 1\n",
       "\n",
       "\n"
      ],
      "text/plain": [
       "[1] 0 1 1 1 0 1 0 1"
      ]
     },
     "metadata": {},
     "output_type": "display_data"
    },
    {
     "data": {
      "text/html": [
       "<ol class=list-inline>\n",
       "\t<li>heads</li>\n",
       "\t<li>tails</li>\n",
       "\t<li>tails</li>\n",
       "\t<li>tails</li>\n",
       "\t<li>heads</li>\n",
       "\t<li>tails</li>\n",
       "\t<li>heads</li>\n",
       "\t<li>tails</li>\n",
       "</ol>\n",
       "\n",
       "<details>\n",
       "\t<summary style=display:list-item;cursor:pointer>\n",
       "\t\t<strong>Levels</strong>:\n",
       "\t</summary>\n",
       "\t<ol class=list-inline>\n",
       "\t\t<li>'heads'</li>\n",
       "\t\t<li>'tails'</li>\n",
       "\t</ol>\n",
       "</details>"
      ],
      "text/latex": [
       "\\begin{enumerate*}\n",
       "\\item heads\n",
       "\\item tails\n",
       "\\item tails\n",
       "\\item tails\n",
       "\\item heads\n",
       "\\item tails\n",
       "\\item heads\n",
       "\\item tails\n",
       "\\end{enumerate*}\n",
       "\n",
       "\\emph{Levels}: \\begin{enumerate*}\n",
       "\\item 'heads'\n",
       "\\item 'tails'\n",
       "\\end{enumerate*}\n"
      ],
      "text/markdown": [
       "1. heads\n",
       "2. tails\n",
       "3. tails\n",
       "4. tails\n",
       "5. heads\n",
       "6. tails\n",
       "7. heads\n",
       "8. tails\n",
       "\n",
       "\n",
       "\n",
       "**Levels**: 1. 'heads'\n",
       "2. 'tails'\n",
       "\n",
       "\n"
      ],
      "text/plain": [
       "[1] heads tails tails tails heads tails heads tails\n",
       "Levels: heads tails"
      ]
     },
     "metadata": {},
     "output_type": "display_data"
    }
   ],
   "source": [
    "#slide 17 \n",
    "scl <- 9\n",
    "scl\n",
    "\n",
    "currency <-c('USD', 'Yen', 'Pesos', 'Rupees')\n",
    "currency\n",
    "\n",
    "coinflip <- c(0,1,1,1,0,1,0,1)\n",
    "fcoinflip <- factor(coinflip, levels=0:1)\n",
    "levels(fcoinflip) <- c(\"heads\", \"tails\")\n",
    "\n",
    "coinflip\n",
    "fcoinflip"
   ]
  },
  {
   "cell_type": "code",
   "execution_count": 7,
   "id": "4e607fde",
   "metadata": {},
   "outputs": [
    {
     "data": {
      "text/html": [
       "859"
      ],
      "text/latex": [
       "859"
      ],
      "text/markdown": [
       "859"
      ],
      "text/plain": [
       "[1] 859"
      ]
     },
     "metadata": {},
     "output_type": "display_data"
    },
    {
     "data": {
      "text/html": [
       "7"
      ],
      "text/latex": [
       "7"
      ],
      "text/markdown": [
       "7"
      ],
      "text/plain": [
       "[1] 7"
      ]
     },
     "metadata": {},
     "output_type": "display_data"
    },
    {
     "data": {
      "text/html": [
       "122.714285714286"
      ],
      "text/latex": [
       "122.714285714286"
      ],
      "text/markdown": [
       "122.714285714286"
      ],
      "text/plain": [
       "[1] 122.7143"
      ]
     },
     "metadata": {},
     "output_type": "display_data"
    },
    {
     "data": {
      "text/html": [
       "<ol class=list-inline>\n",
       "\t<li>-251</li>\n",
       "\t<li>-23</li>\n",
       "\t<li>11</li>\n",
       "\t<li>48</li>\n",
       "\t<li>123</li>\n",
       "\t<li>362</li>\n",
       "\t<li>589</li>\n",
       "</ol>\n"
      ],
      "text/latex": [
       "\\begin{enumerate*}\n",
       "\\item -251\n",
       "\\item -23\n",
       "\\item 11\n",
       "\\item 48\n",
       "\\item 123\n",
       "\\item 362\n",
       "\\item 589\n",
       "\\end{enumerate*}\n"
      ],
      "text/markdown": [
       "1. -251\n",
       "2. -23\n",
       "3. 11\n",
       "4. 48\n",
       "5. 123\n",
       "6. 362\n",
       "7. 589\n",
       "\n",
       "\n"
      ],
      "text/plain": [
       "[1] -251  -23   11   48  123  362  589"
      ]
     },
     "metadata": {},
     "output_type": "display_data"
    },
    {
     "data": {
      "text/html": [
       "-251"
      ],
      "text/latex": [
       "-251"
      ],
      "text/markdown": [
       "-251"
      ],
      "text/plain": [
       "[1] -251"
      ]
     },
     "metadata": {},
     "output_type": "display_data"
    },
    {
     "data": {
      "text/html": [
       "589"
      ],
      "text/latex": [
       "589"
      ],
      "text/markdown": [
       "589"
      ],
      "text/plain": [
       "[1] 589"
      ]
     },
     "metadata": {},
     "output_type": "display_data"
    },
    {
     "data": {
      "text/html": [
       "<ol class=list-inline>\n",
       "\t<li>-251</li>\n",
       "\t<li>589</li>\n",
       "</ol>\n"
      ],
      "text/latex": [
       "\\begin{enumerate*}\n",
       "\\item -251\n",
       "\\item 589\n",
       "\\end{enumerate*}\n"
      ],
      "text/markdown": [
       "1. -251\n",
       "2. 589\n",
       "\n",
       "\n"
      ],
      "text/plain": [
       "[1] -251  589"
      ]
     },
     "metadata": {},
     "output_type": "display_data"
    },
    {
     "data": {
      "text/html": [
       "<ol class=list-inline>\n",
       "\t<li>-146</li>\n",
       "\t<li>612</li>\n",
       "\t<li>-578</li>\n",
       "\t<li>37</li>\n",
       "\t<li>314</li>\n",
       "\t<li>-613</li>\n",
       "</ol>\n"
      ],
      "text/latex": [
       "\\begin{enumerate*}\n",
       "\\item -146\n",
       "\\item 612\n",
       "\\item -578\n",
       "\\item 37\n",
       "\\item 314\n",
       "\\item -613\n",
       "\\end{enumerate*}\n"
      ],
      "text/markdown": [
       "1. -146\n",
       "2. 612\n",
       "3. -578\n",
       "4. 37\n",
       "5. 314\n",
       "6. -613\n",
       "\n",
       "\n"
      ],
      "text/plain": [
       "[1] -146  612 -578   37  314 -613"
      ]
     },
     "metadata": {},
     "output_type": "display_data"
    },
    {
     "data": {
      "text/html": [
       "<ol class=list-inline>\n",
       "\t<li>123</li>\n",
       "\t<li>100</li>\n",
       "\t<li>689</li>\n",
       "\t<li>700</li>\n",
       "\t<li>748</li>\n",
       "\t<li>1110</li>\n",
       "\t<li>859</li>\n",
       "</ol>\n"
      ],
      "text/latex": [
       "\\begin{enumerate*}\n",
       "\\item 123\n",
       "\\item 100\n",
       "\\item 689\n",
       "\\item 700\n",
       "\\item 748\n",
       "\\item 1110\n",
       "\\item 859\n",
       "\\end{enumerate*}\n"
      ],
      "text/markdown": [
       "1. 123\n",
       "2. 100\n",
       "3. 689\n",
       "4. 700\n",
       "5. 748\n",
       "6. 1110\n",
       "7. 859\n",
       "\n",
       "\n"
      ],
      "text/plain": [
       "[1]  123  100  689  700  748 1110  859"
      ]
     },
     "metadata": {},
     "output_type": "display_data"
    },
    {
     "data": {
      "text/html": [
       "<ol class=list-inline>\n",
       "\t<li>246</li>\n",
       "\t<li>-46</li>\n",
       "\t<li>1178</li>\n",
       "\t<li>22</li>\n",
       "\t<li>96</li>\n",
       "\t<li>724</li>\n",
       "\t<li>-502</li>\n",
       "</ol>\n"
      ],
      "text/latex": [
       "\\begin{enumerate*}\n",
       "\\item 246\n",
       "\\item -46\n",
       "\\item 1178\n",
       "\\item 22\n",
       "\\item 96\n",
       "\\item 724\n",
       "\\item -502\n",
       "\\end{enumerate*}\n"
      ],
      "text/markdown": [
       "1. 246\n",
       "2. -46\n",
       "3. 1178\n",
       "4. 22\n",
       "5. 96\n",
       "6. 724\n",
       "7. -502\n",
       "\n",
       "\n"
      ],
      "text/plain": [
       "[1]  246  -46 1178   22   96  724 -502"
      ]
     },
     "metadata": {},
     "output_type": "display_data"
    },
    {
     "data": {
      "text/html": [
       "<ol class=list-inline>\n",
       "\t<li>0.285714285714292</li>\n",
       "\t<li>-145.714285714286</li>\n",
       "\t<li>466.285714285714</li>\n",
       "\t<li>-111.714285714286</li>\n",
       "\t<li>-74.7142857142857</li>\n",
       "\t<li>239.285714285714</li>\n",
       "\t<li>-373.714285714286</li>\n",
       "</ol>\n"
      ],
      "text/latex": [
       "\\begin{enumerate*}\n",
       "\\item 0.285714285714292\n",
       "\\item -145.714285714286\n",
       "\\item 466.285714285714\n",
       "\\item -111.714285714286\n",
       "\\item -74.7142857142857\n",
       "\\item 239.285714285714\n",
       "\\item -373.714285714286\n",
       "\\end{enumerate*}\n"
      ],
      "text/markdown": [
       "1. 0.285714285714292\n",
       "2. -145.714285714286\n",
       "3. 466.285714285714\n",
       "4. -111.714285714286\n",
       "5. -74.7142857142857\n",
       "6. 239.285714285714\n",
       "7. -373.714285714286\n",
       "\n",
       "\n"
      ],
      "text/plain": [
       "[1]    0.2857143 -145.7142857  466.2857143 -111.7142857  -74.7142857\n",
       "[6]  239.2857143 -373.7142857"
      ]
     },
     "metadata": {},
     "output_type": "display_data"
    }
   ],
   "source": [
    "#slide 18\n",
    "values <- c(123, -23, 589, 11, 48, 362, -251)\n",
    "\n",
    "sum(values)\n",
    "length(values)\n",
    "mean(values)\n",
    "sort(values)\n",
    "min(values)\n",
    "max(values)\n",
    "range(values)\n",
    "diff(values)\n",
    "cumsum(values)\n",
    "\n",
    "values + values\n",
    "values - mean(values)"
   ]
  },
  {
   "cell_type": "code",
   "execution_count": 10,
   "id": "74fbd76d",
   "metadata": {},
   "outputs": [
    {
     "data": {
      "text/html": [
       "<ol class=list-inline>\n",
       "\t<li>1</li>\n",
       "\t<li>2</li>\n",
       "\t<li>3</li>\n",
       "\t<li>4</li>\n",
       "\t<li>5</li>\n",
       "\t<li>6</li>\n",
       "\t<li>7</li>\n",
       "\t<li>8</li>\n",
       "\t<li>9</li>\n",
       "\t<li>10</li>\n",
       "\t<li>10</li>\n",
       "\t<li>9</li>\n",
       "\t<li>8</li>\n",
       "\t<li>7</li>\n",
       "\t<li>6</li>\n",
       "\t<li>5</li>\n",
       "\t<li>4</li>\n",
       "\t<li>3</li>\n",
       "\t<li>2</li>\n",
       "\t<li>1</li>\n",
       "</ol>\n"
      ],
      "text/latex": [
       "\\begin{enumerate*}\n",
       "\\item 1\n",
       "\\item 2\n",
       "\\item 3\n",
       "\\item 4\n",
       "\\item 5\n",
       "\\item 6\n",
       "\\item 7\n",
       "\\item 8\n",
       "\\item 9\n",
       "\\item 10\n",
       "\\item 10\n",
       "\\item 9\n",
       "\\item 8\n",
       "\\item 7\n",
       "\\item 6\n",
       "\\item 5\n",
       "\\item 4\n",
       "\\item 3\n",
       "\\item 2\n",
       "\\item 1\n",
       "\\end{enumerate*}\n"
      ],
      "text/markdown": [
       "1. 1\n",
       "2. 2\n",
       "3. 3\n",
       "4. 4\n",
       "5. 5\n",
       "6. 6\n",
       "7. 7\n",
       "8. 8\n",
       "9. 9\n",
       "10. 10\n",
       "11. 10\n",
       "12. 9\n",
       "13. 8\n",
       "14. 7\n",
       "15. 6\n",
       "16. 5\n",
       "17. 4\n",
       "18. 3\n",
       "19. 2\n",
       "20. 1\n",
       "\n",
       "\n"
      ],
      "text/plain": [
       " [1]  1  2  3  4  5  6  7  8  9 10 10  9  8  7  6  5  4  3  2  1"
      ]
     },
     "metadata": {},
     "output_type": "display_data"
    },
    {
     "data": {
      "text/html": [
       "<ol class=list-inline>\n",
       "\t<li>1</li>\n",
       "\t<li>5</li>\n",
       "\t<li>9</li>\n",
       "\t<li>13</li>\n",
       "\t<li>17</li>\n",
       "\t<li>21</li>\n",
       "</ol>\n"
      ],
      "text/latex": [
       "\\begin{enumerate*}\n",
       "\\item 1\n",
       "\\item 5\n",
       "\\item 9\n",
       "\\item 13\n",
       "\\item 17\n",
       "\\item 21\n",
       "\\end{enumerate*}\n"
      ],
      "text/markdown": [
       "1. 1\n",
       "2. 5\n",
       "3. 9\n",
       "4. 13\n",
       "5. 17\n",
       "6. 21\n",
       "\n",
       "\n"
      ],
      "text/plain": [
       "[1]  1  5  9 13 17 21"
      ]
     },
     "metadata": {},
     "output_type": "display_data"
    },
    {
     "data": {
      "text/html": [
       "<ol class=list-inline>\n",
       "\t<li>3</li>\n",
       "\t<li>3</li>\n",
       "\t<li>3</li>\n",
       "\t<li>3</li>\n",
       "\t<li>4</li>\n",
       "\t<li>4</li>\n",
       "\t<li>4</li>\n",
       "\t<li>4</li>\n",
       "\t<li>4</li>\n",
       "\t<li>4</li>\n",
       "\t<li>4</li>\n",
       "\t<li>4</li>\n",
       "</ol>\n"
      ],
      "text/latex": [
       "\\begin{enumerate*}\n",
       "\\item 3\n",
       "\\item 3\n",
       "\\item 3\n",
       "\\item 3\n",
       "\\item 4\n",
       "\\item 4\n",
       "\\item 4\n",
       "\\item 4\n",
       "\\item 4\n",
       "\\item 4\n",
       "\\item 4\n",
       "\\item 4\n",
       "\\end{enumerate*}\n"
      ],
      "text/markdown": [
       "1. 3\n",
       "2. 3\n",
       "3. 3\n",
       "4. 3\n",
       "5. 4\n",
       "6. 4\n",
       "7. 4\n",
       "8. 4\n",
       "9. 4\n",
       "10. 4\n",
       "11. 4\n",
       "12. 4\n",
       "\n",
       "\n"
      ],
      "text/plain": [
       " [1] 3 3 3 3 4 4 4 4 4 4 4 4"
      ]
     },
     "metadata": {},
     "output_type": "display_data"
    }
   ],
   "source": [
    "#slide 19\n",
    "c(1:10, 10:1)\n",
    "seq(1,21, by=4)\n",
    "rep(3:4, c(4,8))"
   ]
  },
  {
   "cell_type": "code",
   "execution_count": 13,
   "id": "7c961289",
   "metadata": {},
   "outputs": [
    {
     "data": {
      "text/html": [
       "<table>\n",
       "<tbody>\n",
       "\t<tr><td>1</td><td>4</td><td>7</td></tr>\n",
       "\t<tr><td>2</td><td>5</td><td>8</td></tr>\n",
       "\t<tr><td>3</td><td>6</td><td>9</td></tr>\n",
       "</tbody>\n",
       "</table>\n"
      ],
      "text/latex": [
       "\\begin{tabular}{lll}\n",
       "\t 1 & 4 & 7\\\\\n",
       "\t 2 & 5 & 8\\\\\n",
       "\t 3 & 6 & 9\\\\\n",
       "\\end{tabular}\n"
      ],
      "text/markdown": [
       "\n",
       "| 1 | 4 | 7 |\n",
       "| 2 | 5 | 8 |\n",
       "| 3 | 6 | 9 |\n",
       "\n"
      ],
      "text/plain": [
       "     [,1] [,2] [,3]\n",
       "[1,] 1    4    7   \n",
       "[2,] 2    5    8   \n",
       "[3,] 3    6    9   "
      ]
     },
     "metadata": {},
     "output_type": "display_data"
    },
    {
     "data": {
      "text/html": [
       "<table>\n",
       "<tbody>\n",
       "\t<tr><td>9</td><td>8</td><td>7</td></tr>\n",
       "\t<tr><td>6</td><td>5</td><td>4</td></tr>\n",
       "\t<tr><td>3</td><td>2</td><td>1</td></tr>\n",
       "</tbody>\n",
       "</table>\n"
      ],
      "text/latex": [
       "\\begin{tabular}{lll}\n",
       "\t 9 & 8 & 7\\\\\n",
       "\t 6 & 5 & 4\\\\\n",
       "\t 3 & 2 & 1\\\\\n",
       "\\end{tabular}\n"
      ],
      "text/markdown": [
       "\n",
       "| 9 | 8 | 7 |\n",
       "| 6 | 5 | 4 |\n",
       "| 3 | 2 | 1 |\n",
       "\n"
      ],
      "text/plain": [
       "     [,1] [,2] [,3]\n",
       "[1,] 9    8    7   \n",
       "[2,] 6    5    4   \n",
       "[3,] 3    2    1   "
      ]
     },
     "metadata": {},
     "output_type": "display_data"
    },
    {
     "data": {
      "text/html": [
       "<table>\n",
       "<tbody>\n",
       "\t<tr><td>9</td><td>6</td><td>3</td></tr>\n",
       "\t<tr><td>8</td><td>5</td><td>2</td></tr>\n",
       "\t<tr><td>7</td><td>4</td><td>1</td></tr>\n",
       "</tbody>\n",
       "</table>\n"
      ],
      "text/latex": [
       "\\begin{tabular}{lll}\n",
       "\t 9 & 6 & 3\\\\\n",
       "\t 8 & 5 & 2\\\\\n",
       "\t 7 & 4 & 1\\\\\n",
       "\\end{tabular}\n"
      ],
      "text/markdown": [
       "\n",
       "| 9 | 6 | 3 |\n",
       "| 8 | 5 | 2 |\n",
       "| 7 | 4 | 1 |\n",
       "\n"
      ],
      "text/plain": [
       "     [,1] [,2] [,3]\n",
       "[1,] 9    6    3   \n",
       "[2,] 8    5    2   \n",
       "[3,] 7    4    1   "
      ]
     },
     "metadata": {},
     "output_type": "display_data"
    }
   ],
   "source": [
    "#slide 20 \n",
    "mat <- matrix(1:9,3,3, byrow=F)\n",
    "mat\n",
    "mat2 <- rbind(c(9,8,7), c(6,5,4), c(3,2,1))\n",
    "mat2\n",
    "mat3 <- cbind(c(9,8,7), c(6,5,4), c(3,2,1))\n",
    "mat3"
   ]
  },
  {
   "cell_type": "code",
   "execution_count": 16,
   "id": "a829b25e",
   "metadata": {},
   "outputs": [
    {
     "data": {
      "text/html": [
       "'USD'"
      ],
      "text/latex": [
       "'USD'"
      ],
      "text/markdown": [
       "'USD'"
      ],
      "text/plain": [
       "[1] \"USD\""
      ]
     },
     "metadata": {},
     "output_type": "display_data"
    },
    {
     "data": {
      "text/html": [
       "<ol class=list-inline>\n",
       "\t<li>'Yen'</li>\n",
       "\t<li>'Pesos'</li>\n",
       "</ol>\n"
      ],
      "text/latex": [
       "\\begin{enumerate*}\n",
       "\\item 'Yen'\n",
       "\\item 'Pesos'\n",
       "\\end{enumerate*}\n"
      ],
      "text/markdown": [
       "1. 'Yen'\n",
       "2. 'Pesos'\n",
       "\n",
       "\n"
      ],
      "text/plain": [
       "[1] \"Yen\"   \"Pesos\""
      ]
     },
     "metadata": {},
     "output_type": "display_data"
    },
    {
     "data": {
      "text/html": [
       "<ol class=list-inline>\n",
       "\t<li>'USD'</li>\n",
       "\t<li>'Yen'</li>\n",
       "\t<li>'Rupees'</li>\n",
       "</ol>\n"
      ],
      "text/latex": [
       "\\begin{enumerate*}\n",
       "\\item 'USD'\n",
       "\\item 'Yen'\n",
       "\\item 'Rupees'\n",
       "\\end{enumerate*}\n"
      ],
      "text/markdown": [
       "1. 'USD'\n",
       "2. 'Yen'\n",
       "3. 'Rupees'\n",
       "\n",
       "\n"
      ],
      "text/plain": [
       "[1] \"USD\"    \"Yen\"    \"Rupees\""
      ]
     },
     "metadata": {},
     "output_type": "display_data"
    },
    {
     "data": {
      "text/html": [
       "<ol class=list-inline>\n",
       "\t<li>123</li>\n",
       "\t<li>589</li>\n",
       "\t<li>362</li>\n",
       "</ol>\n"
      ],
      "text/latex": [
       "\\begin{enumerate*}\n",
       "\\item 123\n",
       "\\item 589\n",
       "\\item 362\n",
       "\\end{enumerate*}\n"
      ],
      "text/markdown": [
       "1. 123\n",
       "2. 589\n",
       "3. 362\n",
       "\n",
       "\n"
      ],
      "text/plain": [
       "[1] 123 589 362"
      ]
     },
     "metadata": {},
     "output_type": "display_data"
    },
    {
     "data": {
      "text/html": [
       "<ol class=list-inline>\n",
       "\t<li>1</li>\n",
       "\t<li>3</li>\n",
       "\t<li>6</li>\n",
       "</ol>\n"
      ],
      "text/latex": [
       "\\begin{enumerate*}\n",
       "\\item 1\n",
       "\\item 3\n",
       "\\item 6\n",
       "\\end{enumerate*}\n"
      ],
      "text/markdown": [
       "1. 1\n",
       "2. 3\n",
       "3. 6\n",
       "\n",
       "\n"
      ],
      "text/plain": [
       "[1] 1 3 6"
      ]
     },
     "metadata": {},
     "output_type": "display_data"
    },
    {
     "data": {
      "text/html": [
       "3"
      ],
      "text/latex": [
       "3"
      ],
      "text/markdown": [
       "3"
      ],
      "text/plain": [
       "[1] 3"
      ]
     },
     "metadata": {},
     "output_type": "display_data"
    }
   ],
   "source": [
    "#slide 21\n",
    "currency[1]\n",
    "currency[2:3]\n",
    "currency[-3]\n",
    "\n",
    "values[values>100]\n",
    "which(values>100)\n",
    "which.max(values)"
   ]
  },
  {
   "cell_type": "code",
   "execution_count": 21,
   "id": "9c1b3e0b",
   "metadata": {},
   "outputs": [
    {
     "data": {
      "text/html": [
       "<ol class=list-inline>\n",
       "\t<li>3</li>\n",
       "\t<li>8</li>\n",
       "\t<li>13</li>\n",
       "\t<li>18</li>\n",
       "\t<li>23</li>\n",
       "</ol>\n"
      ],
      "text/latex": [
       "\\begin{enumerate*}\n",
       "\\item 3\n",
       "\\item 8\n",
       "\\item 13\n",
       "\\item 18\n",
       "\\item 23\n",
       "\\end{enumerate*}\n"
      ],
      "text/markdown": [
       "1. 3\n",
       "2. 8\n",
       "3. 13\n",
       "4. 18\n",
       "5. 23\n",
       "\n",
       "\n"
      ],
      "text/plain": [
       "[1]  3  8 13 18 23"
      ]
     },
     "metadata": {},
     "output_type": "display_data"
    },
    {
     "data": {
      "text/html": [
       "<ol class=list-inline>\n",
       "\t<li>16</li>\n",
       "\t<li>17</li>\n",
       "\t<li>18</li>\n",
       "\t<li>19</li>\n",
       "\t<li>20</li>\n",
       "</ol>\n"
      ],
      "text/latex": [
       "\\begin{enumerate*}\n",
       "\\item 16\n",
       "\\item 17\n",
       "\\item 18\n",
       "\\item 19\n",
       "\\item 20\n",
       "\\end{enumerate*}\n"
      ],
      "text/markdown": [
       "1. 16\n",
       "2. 17\n",
       "3. 18\n",
       "4. 19\n",
       "5. 20\n",
       "\n",
       "\n"
      ],
      "text/plain": [
       "[1] 16 17 18 19 20"
      ]
     },
     "metadata": {},
     "output_type": "display_data"
    },
    {
     "data": {
      "text/html": [
       "<table>\n",
       "<tbody>\n",
       "\t<tr><td> 1</td><td> 2</td><td> 3</td><td> 4</td><td> 5</td></tr>\n",
       "\t<tr><td>21</td><td>22</td><td>23</td><td>24</td><td>25</td></tr>\n",
       "</tbody>\n",
       "</table>\n"
      ],
      "text/latex": [
       "\\begin{tabular}{lllll}\n",
       "\t  1 &  2 &  3 &  4 &  5\\\\\n",
       "\t 21 & 22 & 23 & 24 & 25\\\\\n",
       "\\end{tabular}\n"
      ],
      "text/markdown": [
       "\n",
       "|  1 |  2 |  3 |  4 |  5 |\n",
       "| 21 | 22 | 23 | 24 | 25 |\n",
       "\n"
      ],
      "text/plain": [
       "     [,1] [,2] [,3] [,4] [,5]\n",
       "[1,]  1    2    3    4    5  \n",
       "[2,] 21   22   23   24   25  "
      ]
     },
     "metadata": {},
     "output_type": "display_data"
    },
    {
     "data": {
      "text/html": [
       "<ol class=list-inline>\n",
       "\t<li>10</li>\n",
       "\t<li>15</li>\n",
       "\t<li>20</li>\n",
       "\t<li>25</li>\n",
       "</ol>\n"
      ],
      "text/latex": [
       "\\begin{enumerate*}\n",
       "\\item 10\n",
       "\\item 15\n",
       "\\item 20\n",
       "\\item 25\n",
       "\\end{enumerate*}\n"
      ],
      "text/markdown": [
       "1. 10\n",
       "2. 15\n",
       "3. 20\n",
       "4. 25\n",
       "\n",
       "\n"
      ],
      "text/plain": [
       "[1] 10 15 20 25"
      ]
     },
     "metadata": {},
     "output_type": "display_data"
    },
    {
     "data": {
      "text/html": [
       "<table>\n",
       "<tbody>\n",
       "\t<tr><td> 6</td><td> 7</td><td> 8</td><td> 9</td><td>10</td></tr>\n",
       "\t<tr><td>16</td><td>17</td><td>18</td><td>19</td><td>20</td></tr>\n",
       "</tbody>\n",
       "</table>\n"
      ],
      "text/latex": [
       "\\begin{tabular}{lllll}\n",
       "\t  6 &  7 &  8 &  9 & 10\\\\\n",
       "\t 16 & 17 & 18 & 19 & 20\\\\\n",
       "\\end{tabular}\n"
      ],
      "text/markdown": [
       "\n",
       "|  6 |  7 |  8 |  9 | 10 |\n",
       "| 16 | 17 | 18 | 19 | 20 |\n",
       "\n"
      ],
      "text/plain": [
       "     [,1] [,2] [,3] [,4] [,5]\n",
       "[1,]  6    7    8    9   10  \n",
       "[2,] 16   17   18   19   20  "
      ]
     },
     "metadata": {},
     "output_type": "display_data"
    }
   ],
   "source": [
    "#slide 22\n",
    "mat = matrix(1:25, 5, 5, byrow=T)\n",
    "mat[,3]\n",
    "mat[4,]\n",
    "mat[c(1,5),]\n",
    "mat[2:5,5]\n",
    "mat[-c(1,3,5),]"
   ]
  },
  {
   "cell_type": "code",
   "execution_count": 42,
   "id": "4358a45d",
   "metadata": {},
   "outputs": [
    {
     "data": {
      "text/html": [
       "<ol class=list-inline>\n",
       "\t<li>TRUE</li>\n",
       "\t<li>TRUE</li>\n",
       "\t<li>TRUE</li>\n",
       "\t<li>TRUE</li>\n",
       "\t<li>TRUE</li>\n",
       "\t<li>FALSE</li>\n",
       "\t<li>FALSE</li>\n",
       "\t<li>FALSE</li>\n",
       "\t<li>FALSE</li>\n",
       "\t<li>FALSE</li>\n",
       "</ol>\n"
      ],
      "text/latex": [
       "\\begin{enumerate*}\n",
       "\\item TRUE\n",
       "\\item TRUE\n",
       "\\item TRUE\n",
       "\\item TRUE\n",
       "\\item TRUE\n",
       "\\item FALSE\n",
       "\\item FALSE\n",
       "\\item FALSE\n",
       "\\item FALSE\n",
       "\\item FALSE\n",
       "\\end{enumerate*}\n"
      ],
      "text/markdown": [
       "1. TRUE\n",
       "2. TRUE\n",
       "3. TRUE\n",
       "4. TRUE\n",
       "5. TRUE\n",
       "6. FALSE\n",
       "7. FALSE\n",
       "8. FALSE\n",
       "9. FALSE\n",
       "10. FALSE\n",
       "\n",
       "\n"
      ],
      "text/plain": [
       " [1]  TRUE  TRUE  TRUE  TRUE  TRUE FALSE FALSE FALSE FALSE FALSE"
      ]
     },
     "metadata": {},
     "output_type": "display_data"
    },
    {
     "data": {
      "text/html": [
       "<ol class=list-inline>\n",
       "\t<li>FALSE</li>\n",
       "\t<li>FALSE</li>\n",
       "\t<li>FALSE</li>\n",
       "\t<li>FALSE</li>\n",
       "\t<li>FALSE</li>\n",
       "\t<li>FALSE</li>\n",
       "\t<li>FALSE</li>\n",
       "\t<li>TRUE</li>\n",
       "\t<li>TRUE</li>\n",
       "\t<li>FALSE</li>\n",
       "</ol>\n"
      ],
      "text/latex": [
       "\\begin{enumerate*}\n",
       "\\item FALSE\n",
       "\\item FALSE\n",
       "\\item FALSE\n",
       "\\item FALSE\n",
       "\\item FALSE\n",
       "\\item FALSE\n",
       "\\item FALSE\n",
       "\\item TRUE\n",
       "\\item TRUE\n",
       "\\item FALSE\n",
       "\\end{enumerate*}\n"
      ],
      "text/markdown": [
       "1. FALSE\n",
       "2. FALSE\n",
       "3. FALSE\n",
       "4. FALSE\n",
       "5. FALSE\n",
       "6. FALSE\n",
       "7. FALSE\n",
       "8. TRUE\n",
       "9. TRUE\n",
       "10. FALSE\n",
       "\n",
       "\n"
      ],
      "text/plain": [
       " [1] FALSE FALSE FALSE FALSE FALSE FALSE FALSE  TRUE  TRUE FALSE"
      ]
     },
     "metadata": {},
     "output_type": "display_data"
    },
    {
     "data": {
      "text/html": [
       "TRUE"
      ],
      "text/latex": [
       "TRUE"
      ],
      "text/markdown": [
       "TRUE"
      ],
      "text/plain": [
       "[1] TRUE"
      ]
     },
     "metadata": {},
     "output_type": "display_data"
    },
    {
     "data": {
      "text/html": [
       "FALSE"
      ],
      "text/latex": [
       "FALSE"
      ],
      "text/markdown": [
       "FALSE"
      ],
      "text/plain": [
       "[1] FALSE"
      ]
     },
     "metadata": {},
     "output_type": "display_data"
    },
    {
     "data": {
      "text/html": [
       "<ol class=list-inline>\n",
       "\t<li>FALSE</li>\n",
       "\t<li>FALSE</li>\n",
       "\t<li>FALSE</li>\n",
       "\t<li>FALSE</li>\n",
       "\t<li>TRUE</li>\n",
       "\t<li>TRUE</li>\n",
       "\t<li>FALSE</li>\n",
       "\t<li>FALSE</li>\n",
       "\t<li>FALSE</li>\n",
       "\t<li>FALSE</li>\n",
       "</ol>\n"
      ],
      "text/latex": [
       "\\begin{enumerate*}\n",
       "\\item FALSE\n",
       "\\item FALSE\n",
       "\\item FALSE\n",
       "\\item FALSE\n",
       "\\item TRUE\n",
       "\\item TRUE\n",
       "\\item FALSE\n",
       "\\item FALSE\n",
       "\\item FALSE\n",
       "\\item FALSE\n",
       "\\end{enumerate*}\n"
      ],
      "text/markdown": [
       "1. FALSE\n",
       "2. FALSE\n",
       "3. FALSE\n",
       "4. FALSE\n",
       "5. TRUE\n",
       "6. TRUE\n",
       "7. FALSE\n",
       "8. FALSE\n",
       "9. FALSE\n",
       "10. FALSE\n",
       "\n",
       "\n"
      ],
      "text/plain": [
       " [1] FALSE FALSE FALSE FALSE  TRUE  TRUE FALSE FALSE FALSE FALSE"
      ]
     },
     "metadata": {},
     "output_type": "display_data"
    }
   ],
   "source": [
    "#slide 23\n",
    "x = 1:10\n",
    "x<6\n",
    "x>7 & x<10\n",
    "any(x>2)\n",
    "all(x<10)\n",
    "x %in% c(5,6)"
   ]
  },
  {
   "cell_type": "code",
   "execution_count": 43,
   "id": "238d733d",
   "metadata": {},
   "outputs": [
    {
     "data": {
      "text/html": [
       "<ol class=list-inline>\n",
       "\t<li>FALSE</li>\n",
       "\t<li>FALSE</li>\n",
       "\t<li>FALSE</li>\n",
       "\t<li>FALSE</li>\n",
       "\t<li>FALSE</li>\n",
       "\t<li>FALSE</li>\n",
       "\t<li>FALSE</li>\n",
       "\t<li>FALSE</li>\n",
       "\t<li>FALSE</li>\n",
       "\t<li>FALSE</li>\n",
       "</ol>\n"
      ],
      "text/latex": [
       "\\begin{enumerate*}\n",
       "\\item FALSE\n",
       "\\item FALSE\n",
       "\\item FALSE\n",
       "\\item FALSE\n",
       "\\item FALSE\n",
       "\\item FALSE\n",
       "\\item FALSE\n",
       "\\item FALSE\n",
       "\\item FALSE\n",
       "\\item FALSE\n",
       "\\end{enumerate*}\n"
      ],
      "text/markdown": [
       "1. FALSE\n",
       "2. FALSE\n",
       "3. FALSE\n",
       "4. FALSE\n",
       "5. FALSE\n",
       "6. FALSE\n",
       "7. FALSE\n",
       "8. FALSE\n",
       "9. FALSE\n",
       "10. FALSE\n",
       "\n",
       "\n"
      ],
      "text/plain": [
       " [1] FALSE FALSE FALSE FALSE FALSE FALSE FALSE FALSE FALSE FALSE"
      ]
     },
     "metadata": {},
     "output_type": "display_data"
    },
    {
     "data": {
      "text/html": [
       "<ol class=list-inline>\n",
       "\t<li>&lt;NA&gt;</li>\n",
       "\t<li>2</li>\n",
       "\t<li>3</li>\n",
       "\t<li>4</li>\n",
       "\t<li>5</li>\n",
       "\t<li>6</li>\n",
       "\t<li>7</li>\n",
       "\t<li>8</li>\n",
       "\t<li>9</li>\n",
       "\t<li>10</li>\n",
       "</ol>\n"
      ],
      "text/latex": [
       "\\begin{enumerate*}\n",
       "\\item <NA>\n",
       "\\item 2\n",
       "\\item 3\n",
       "\\item 4\n",
       "\\item 5\n",
       "\\item 6\n",
       "\\item 7\n",
       "\\item 8\n",
       "\\item 9\n",
       "\\item 10\n",
       "\\end{enumerate*}\n"
      ],
      "text/markdown": [
       "1. &lt;NA&gt;\n",
       "2. 2\n",
       "3. 3\n",
       "4. 4\n",
       "5. 5\n",
       "6. 6\n",
       "7. 7\n",
       "8. 8\n",
       "9. 9\n",
       "10. 10\n",
       "\n",
       "\n"
      ],
      "text/plain": [
       " [1] NA  2  3  4  5  6  7  8  9 10"
      ]
     },
     "metadata": {},
     "output_type": "display_data"
    },
    {
     "data": {
      "text/html": [
       "6"
      ],
      "text/latex": [
       "6"
      ],
      "text/markdown": [
       "6"
      ],
      "text/plain": [
       "[1] 6"
      ]
     },
     "metadata": {},
     "output_type": "display_data"
    }
   ],
   "source": [
    "#slide 24\n",
    "is.na(x)\n",
    "x[1]<-NA\n",
    "x\n",
    "mean(x, na.rm = TRUE)\n",
    "x[is.na(x)]<-0"
   ]
  },
  {
   "cell_type": "code",
   "execution_count": 39,
   "id": "ba9a0e6e",
   "metadata": {},
   "outputs": [
    {
     "data": {
      "text/html": [
       "<ol class=list-inline>\n",
       "\t<li>39</li>\n",
       "\t<li>6991</li>\n",
       "</ol>\n"
      ],
      "text/latex": [
       "\\begin{enumerate*}\n",
       "\\item 39\n",
       "\\item 6991\n",
       "\\end{enumerate*}\n"
      ],
      "text/markdown": [
       "1. 39\n",
       "2. 6991\n",
       "\n",
       "\n"
      ],
      "text/plain": [
       "[1]   39 6991"
      ]
     },
     "metadata": {},
     "output_type": "display_data"
    },
    {
     "data": {
      "text/html": [
       "<table>\n",
       "<thead><tr><th scope=col>Sex</th><th scope=col>Wr.Hnd</th><th scope=col>NW.Hnd</th><th scope=col>W.Hnd</th><th scope=col>Fold</th><th scope=col>Pulse</th><th scope=col>Clap</th><th scope=col>Exer</th><th scope=col>Smoke</th><th scope=col>Height</th><th scope=col>M.I</th><th scope=col>Age</th></tr></thead>\n",
       "<tbody>\n",
       "\t<tr><td>Female  </td><td>18.5    </td><td>18.0    </td><td>Right   </td><td>R on L  </td><td> 92     </td><td>Left    </td><td>Some    </td><td>Never   </td><td>173.00  </td><td>Metric  </td><td>18.250  </td></tr>\n",
       "\t<tr><td>Male    </td><td>19.5    </td><td>20.5    </td><td>Left    </td><td>R on L  </td><td>104     </td><td>Left    </td><td>None    </td><td>Regul   </td><td>177.80  </td><td>Imperial</td><td>17.583  </td></tr>\n",
       "\t<tr><td>Male    </td><td>18.0    </td><td>13.3    </td><td>Right   </td><td>L on R  </td><td> 87     </td><td>Neither </td><td>None    </td><td>Occas   </td><td>    NA  </td><td>NA      </td><td>16.917  </td></tr>\n",
       "\t<tr><td>Male    </td><td>18.8    </td><td>18.9    </td><td>Right   </td><td>R on L  </td><td> NA     </td><td>Neither </td><td>None    </td><td>Never   </td><td>160.00  </td><td>Metric  </td><td>20.333  </td></tr>\n",
       "\t<tr><td>Male    </td><td>20.0    </td><td>20.0    </td><td>Right   </td><td>Neither </td><td> 35     </td><td>Right   </td><td>Some    </td><td>Never   </td><td>165.00  </td><td>Metric  </td><td>23.667  </td></tr>\n",
       "\t<tr><td>Female  </td><td>18.0    </td><td>17.7    </td><td>Right   </td><td>L on R  </td><td> 64     </td><td>Right   </td><td>Some    </td><td>Never   </td><td>172.72  </td><td>Imperial</td><td>21.000  </td></tr>\n",
       "</tbody>\n",
       "</table>\n"
      ],
      "text/latex": [
       "\\begin{tabular}{r|llllllllllll}\n",
       " Sex & Wr.Hnd & NW.Hnd & W.Hnd & Fold & Pulse & Clap & Exer & Smoke & Height & M.I & Age\\\\\n",
       "\\hline\n",
       "\t Female   & 18.5     & 18.0     & Right    & R on L   &  92      & Left     & Some     & Never    & 173.00   & Metric   & 18.250  \\\\\n",
       "\t Male     & 19.5     & 20.5     & Left     & R on L   & 104      & Left     & None     & Regul    & 177.80   & Imperial & 17.583  \\\\\n",
       "\t Male     & 18.0     & 13.3     & Right    & L on R   &  87      & Neither  & None     & Occas    &     NA   & NA       & 16.917  \\\\\n",
       "\t Male     & 18.8     & 18.9     & Right    & R on L   &  NA      & Neither  & None     & Never    & 160.00   & Metric   & 20.333  \\\\\n",
       "\t Male     & 20.0     & 20.0     & Right    & Neither  &  35      & Right    & Some     & Never    & 165.00   & Metric   & 23.667  \\\\\n",
       "\t Female   & 18.0     & 17.7     & Right    & L on R   &  64      & Right    & Some     & Never    & 172.72   & Imperial & 21.000  \\\\\n",
       "\\end{tabular}\n"
      ],
      "text/markdown": [
       "\n",
       "| Sex | Wr.Hnd | NW.Hnd | W.Hnd | Fold | Pulse | Clap | Exer | Smoke | Height | M.I | Age |\n",
       "|---|---|---|---|---|---|---|---|---|---|---|---|\n",
       "| Female   | 18.5     | 18.0     | Right    | R on L   |  92      | Left     | Some     | Never    | 173.00   | Metric   | 18.250   |\n",
       "| Male     | 19.5     | 20.5     | Left     | R on L   | 104      | Left     | None     | Regul    | 177.80   | Imperial | 17.583   |\n",
       "| Male     | 18.0     | 13.3     | Right    | L on R   |  87      | Neither  | None     | Occas    |     NA   | NA       | 16.917   |\n",
       "| Male     | 18.8     | 18.9     | Right    | R on L   |  NA      | Neither  | None     | Never    | 160.00   | Metric   | 20.333   |\n",
       "| Male     | 20.0     | 20.0     | Right    | Neither  |  35      | Right    | Some     | Never    | 165.00   | Metric   | 23.667   |\n",
       "| Female   | 18.0     | 17.7     | Right    | L on R   |  64      | Right    | Some     | Never    | 172.72   | Imperial | 21.000   |\n",
       "\n"
      ],
      "text/plain": [
       "  Sex    Wr.Hnd NW.Hnd W.Hnd Fold    Pulse Clap    Exer Smoke Height M.I     \n",
       "1 Female 18.5   18.0   Right R on L   92   Left    Some Never 173.00 Metric  \n",
       "2 Male   19.5   20.5   Left  R on L  104   Left    None Regul 177.80 Imperial\n",
       "3 Male   18.0   13.3   Right L on R   87   Neither None Occas     NA NA      \n",
       "4 Male   18.8   18.9   Right R on L   NA   Neither None Never 160.00 Metric  \n",
       "5 Male   20.0   20.0   Right Neither  35   Right   Some Never 165.00 Metric  \n",
       "6 Female 18.0   17.7   Right L on R   64   Right   Some Never 172.72 Imperial\n",
       "  Age   \n",
       "1 18.250\n",
       "2 17.583\n",
       "3 16.917\n",
       "4 20.333\n",
       "5 23.667\n",
       "6 21.000"
      ]
     },
     "metadata": {},
     "output_type": "display_data"
    },
    {
     "data": {
      "text/html": [
       "<table>\n",
       "<thead><tr><th></th><th scope=col>Sex</th><th scope=col>Wr.Hnd</th><th scope=col>NW.Hnd</th><th scope=col>W.Hnd</th><th scope=col>Fold</th><th scope=col>Pulse</th><th scope=col>Clap</th><th scope=col>Exer</th><th scope=col>Smoke</th><th scope=col>Height</th><th scope=col>M.I</th><th scope=col>Age</th></tr></thead>\n",
       "<tbody>\n",
       "\t<tr><th scope=row>232</th><td>Male    </td><td>18.0    </td><td>16.0    </td><td>Right   </td><td>R on L  </td><td>NA      </td><td>Right   </td><td>Some    </td><td>Never   </td><td>180.34  </td><td>Imperial</td><td>20.750  </td></tr>\n",
       "\t<tr><th scope=row>233</th><td>Female  </td><td>18.0    </td><td>18.0    </td><td>Right   </td><td>L on R  </td><td>85      </td><td>Right   </td><td>Some    </td><td>Never   </td><td>165.10  </td><td>Imperial</td><td>17.667  </td></tr>\n",
       "\t<tr><th scope=row>234</th><td>Female  </td><td>18.5    </td><td>18.0    </td><td>Right   </td><td>L on R  </td><td>88      </td><td>Right   </td><td>Some    </td><td>Never   </td><td>160.00  </td><td>Metric  </td><td>16.917  </td></tr>\n",
       "\t<tr><th scope=row>235</th><td>Female  </td><td>17.5    </td><td>16.5    </td><td>Right   </td><td>R on L  </td><td>NA      </td><td>Right   </td><td>Some    </td><td>Never   </td><td>170.00  </td><td>Metric  </td><td>18.583  </td></tr>\n",
       "\t<tr><th scope=row>236</th><td>Male    </td><td>21.0    </td><td>21.5    </td><td>Right   </td><td>R on L  </td><td>90      </td><td>Right   </td><td>Some    </td><td>Never   </td><td>183.00  </td><td>Metric  </td><td>17.167  </td></tr>\n",
       "\t<tr><th scope=row>237</th><td>Female  </td><td>17.6    </td><td>17.3    </td><td>Right   </td><td>R on L  </td><td>85      </td><td>Right   </td><td>Freq    </td><td>Never   </td><td>168.50  </td><td>Metric  </td><td>17.750  </td></tr>\n",
       "</tbody>\n",
       "</table>\n"
      ],
      "text/latex": [
       "\\begin{tabular}{r|llllllllllll}\n",
       "  & Sex & Wr.Hnd & NW.Hnd & W.Hnd & Fold & Pulse & Clap & Exer & Smoke & Height & M.I & Age\\\\\n",
       "\\hline\n",
       "\t232 & Male     & 18.0     & 16.0     & Right    & R on L   & NA       & Right    & Some     & Never    & 180.34   & Imperial & 20.750  \\\\\n",
       "\t233 & Female   & 18.0     & 18.0     & Right    & L on R   & 85       & Right    & Some     & Never    & 165.10   & Imperial & 17.667  \\\\\n",
       "\t234 & Female   & 18.5     & 18.0     & Right    & L on R   & 88       & Right    & Some     & Never    & 160.00   & Metric   & 16.917  \\\\\n",
       "\t235 & Female   & 17.5     & 16.5     & Right    & R on L   & NA       & Right    & Some     & Never    & 170.00   & Metric   & 18.583  \\\\\n",
       "\t236 & Male     & 21.0     & 21.5     & Right    & R on L   & 90       & Right    & Some     & Never    & 183.00   & Metric   & 17.167  \\\\\n",
       "\t237 & Female   & 17.6     & 17.3     & Right    & R on L   & 85       & Right    & Freq     & Never    & 168.50   & Metric   & 17.750  \\\\\n",
       "\\end{tabular}\n"
      ],
      "text/markdown": [
       "\n",
       "| <!--/--> | Sex | Wr.Hnd | NW.Hnd | W.Hnd | Fold | Pulse | Clap | Exer | Smoke | Height | M.I | Age |\n",
       "|---|---|---|---|---|---|---|---|---|---|---|---|---|\n",
       "| 232 | Male     | 18.0     | 16.0     | Right    | R on L   | NA       | Right    | Some     | Never    | 180.34   | Imperial | 20.750   |\n",
       "| 233 | Female   | 18.0     | 18.0     | Right    | L on R   | 85       | Right    | Some     | Never    | 165.10   | Imperial | 17.667   |\n",
       "| 234 | Female   | 18.5     | 18.0     | Right    | L on R   | 88       | Right    | Some     | Never    | 160.00   | Metric   | 16.917   |\n",
       "| 235 | Female   | 17.5     | 16.5     | Right    | R on L   | NA       | Right    | Some     | Never    | 170.00   | Metric   | 18.583   |\n",
       "| 236 | Male     | 21.0     | 21.5     | Right    | R on L   | 90       | Right    | Some     | Never    | 183.00   | Metric   | 17.167   |\n",
       "| 237 | Female   | 17.6     | 17.3     | Right    | R on L   | 85       | Right    | Freq     | Never    | 168.50   | Metric   | 17.750   |\n",
       "\n"
      ],
      "text/plain": [
       "    Sex    Wr.Hnd NW.Hnd W.Hnd Fold   Pulse Clap  Exer Smoke Height M.I     \n",
       "232 Male   18.0   16.0   Right R on L NA    Right Some Never 180.34 Imperial\n",
       "233 Female 18.0   18.0   Right L on R 85    Right Some Never 165.10 Imperial\n",
       "234 Female 18.5   18.0   Right L on R 88    Right Some Never 160.00 Metric  \n",
       "235 Female 17.5   16.5   Right R on L NA    Right Some Never 170.00 Metric  \n",
       "236 Male   21.0   21.5   Right R on L 90    Right Some Never 183.00 Metric  \n",
       "237 Female 17.6   17.3   Right R on L 85    Right Freq Never 168.50 Metric  \n",
       "    Age   \n",
       "232 20.750\n",
       "233 17.667\n",
       "234 16.917\n",
       "235 18.583\n",
       "236 17.167\n",
       "237 17.750"
      ]
     },
     "metadata": {},
     "output_type": "display_data"
    }
   ],
   "source": [
    "#slide 25\n",
    "range(lynx)\n",
    "library(MASS)\n",
    "data(survey)\n",
    "head(survey)\n",
    "tail(survey)"
   ]
  },
  {
   "cell_type": "code",
   "execution_count": 55,
   "id": "386f6ea6",
   "metadata": {},
   "outputs": [
    {
     "data": {
      "text/html": [
       "<ol class=list-inline>\n",
       "\t<li>12</li>\n",
       "\t<li>234</li>\n",
       "\t<li>12</li>\n",
       "\t<li>44</li>\n",
       "\t<li>12</li>\n",
       "\t<li>657</li>\n",
       "\t<li>99</li>\n",
       "\t<li>66</li>\n",
       "\t<li>88</li>\n",
       "\t<li>6678</li>\n",
       "\t<li>934</li>\n",
       "</ol>\n"
      ],
      "text/latex": [
       "\\begin{enumerate*}\n",
       "\\item 12\n",
       "\\item 234\n",
       "\\item 12\n",
       "\\item 44\n",
       "\\item 12\n",
       "\\item 657\n",
       "\\item 99\n",
       "\\item 66\n",
       "\\item 88\n",
       "\\item 6678\n",
       "\\item 934\n",
       "\\end{enumerate*}\n"
      ],
      "text/markdown": [
       "1. 12\n",
       "2. 234\n",
       "3. 12\n",
       "4. 44\n",
       "5. 12\n",
       "6. 657\n",
       "7. 99\n",
       "8. 66\n",
       "9. 88\n",
       "10. 6678\n",
       "11. 934\n",
       "\n",
       "\n"
      ],
      "text/plain": [
       " [1]   12  234   12   44   12  657   99   66   88 6678  934"
      ]
     },
     "metadata": {},
     "output_type": "display_data"
    },
    {
     "data": {
      "text/html": [
       "<table>\n",
       "<thead><tr><th scope=col>Velocity</th><th scope=col>Frequency</th></tr></thead>\n",
       "<tbody>\n",
       "\t<tr><td>0.37 </td><td>0.620</td></tr>\n",
       "\t<tr><td>0.50 </td><td>0.675</td></tr>\n",
       "\t<tr><td>0.35 </td><td>0.680</td></tr>\n",
       "\t<tr><td>0.34 </td><td>0.710</td></tr>\n",
       "\t<tr><td>0.46 </td><td>0.800</td></tr>\n",
       "\t<tr><td>0.44 </td><td>0.880</td></tr>\n",
       "\t<tr><td>0.51 </td><td>0.880</td></tr>\n",
       "\t<tr><td>0.68 </td><td>0.920</td></tr>\n",
       "\t<tr><td>0.51 </td><td>1.080</td></tr>\n",
       "\t<tr><td>0.67 </td><td>1.140</td></tr>\n",
       "\t<tr><td>0.68 </td><td>1.200</td></tr>\n",
       "\t<tr><td>0.86 </td><td>1.380</td></tr>\n",
       "\t<tr><td>0.68 </td><td>1.410</td></tr>\n",
       "\t<tr><td>0.73 </td><td>1.440</td></tr>\n",
       "\t<tr><td>0.95 </td><td>1.490</td></tr>\n",
       "\t<tr><td>0.79 </td><td>1.500</td></tr>\n",
       "\t<tr><td>0.84 </td><td>1.500</td></tr>\n",
       "\t<tr><td>1.06 </td><td>1.560</td></tr>\n",
       "\t<tr><td>1.04 </td><td>1.670</td></tr>\n",
       "</tbody>\n",
       "</table>\n"
      ],
      "text/latex": [
       "\\begin{tabular}{r|ll}\n",
       " Velocity & Frequency\\\\\n",
       "\\hline\n",
       "\t 0.37  & 0.620\\\\\n",
       "\t 0.50  & 0.675\\\\\n",
       "\t 0.35  & 0.680\\\\\n",
       "\t 0.34  & 0.710\\\\\n",
       "\t 0.46  & 0.800\\\\\n",
       "\t 0.44  & 0.880\\\\\n",
       "\t 0.51  & 0.880\\\\\n",
       "\t 0.68  & 0.920\\\\\n",
       "\t 0.51  & 1.080\\\\\n",
       "\t 0.67  & 1.140\\\\\n",
       "\t 0.68  & 1.200\\\\\n",
       "\t 0.86  & 1.380\\\\\n",
       "\t 0.68  & 1.410\\\\\n",
       "\t 0.73  & 1.440\\\\\n",
       "\t 0.95  & 1.490\\\\\n",
       "\t 0.79  & 1.500\\\\\n",
       "\t 0.84  & 1.500\\\\\n",
       "\t 1.06  & 1.560\\\\\n",
       "\t 1.04  & 1.670\\\\\n",
       "\\end{tabular}\n"
      ],
      "text/markdown": [
       "\n",
       "| Velocity | Frequency |\n",
       "|---|---|\n",
       "| 0.37  | 0.620 |\n",
       "| 0.50  | 0.675 |\n",
       "| 0.35  | 0.680 |\n",
       "| 0.34  | 0.710 |\n",
       "| 0.46  | 0.800 |\n",
       "| 0.44  | 0.880 |\n",
       "| 0.51  | 0.880 |\n",
       "| 0.68  | 0.920 |\n",
       "| 0.51  | 1.080 |\n",
       "| 0.67  | 1.140 |\n",
       "| 0.68  | 1.200 |\n",
       "| 0.86  | 1.380 |\n",
       "| 0.68  | 1.410 |\n",
       "| 0.73  | 1.440 |\n",
       "| 0.95  | 1.490 |\n",
       "| 0.79  | 1.500 |\n",
       "| 0.84  | 1.500 |\n",
       "| 1.06  | 1.560 |\n",
       "| 1.04  | 1.670 |\n",
       "\n"
      ],
      "text/plain": [
       "   Velocity Frequency\n",
       "1  0.37     0.620    \n",
       "2  0.50     0.675    \n",
       "3  0.35     0.680    \n",
       "4  0.34     0.710    \n",
       "5  0.46     0.800    \n",
       "6  0.44     0.880    \n",
       "7  0.51     0.880    \n",
       "8  0.68     0.920    \n",
       "9  0.51     1.080    \n",
       "10 0.67     1.140    \n",
       "11 0.68     1.200    \n",
       "12 0.86     1.380    \n",
       "13 0.68     1.410    \n",
       "14 0.73     1.440    \n",
       "15 0.95     1.490    \n",
       "16 0.79     1.500    \n",
       "17 0.84     1.500    \n",
       "18 1.06     1.560    \n",
       "19 1.04     1.670    "
      ]
     },
     "metadata": {},
     "output_type": "display_data"
    }
   ],
   "source": [
    "#slide 26\n",
    "orca = scan(file='orca.txt')\n",
    "orca\n",
    "\n",
    "read.table(file='http://statweb.stanford.edu/~rag/stat141/exs/whale.txt', header=T)"
   ]
  },
  {
   "cell_type": "code",
   "execution_count": 66,
   "id": "2fe8baae",
   "metadata": {},
   "outputs": [
    {
     "data": {
      "text/html": [
       "<ol class=list-inline>\n",
       "\t<li>'index'</li>\n",
       "\t<li>'symbol'</li>\n",
       "</ol>\n"
      ],
      "text/latex": [
       "\\begin{enumerate*}\n",
       "\\item 'index'\n",
       "\\item 'symbol'\n",
       "\\end{enumerate*}\n"
      ],
      "text/markdown": [
       "1. 'index'\n",
       "2. 'symbol'\n",
       "\n",
       "\n"
      ],
      "text/plain": [
       "[1] \"index\"  \"symbol\""
      ]
     },
     "metadata": {},
     "output_type": "display_data"
    },
    {
     "data": {
      "text/html": [
       "<ol class=list-inline>\n",
       "\t<li>'blood.glucose'</li>\n",
       "\t<li>'short.velocity'</li>\n",
       "</ol>\n"
      ],
      "text/latex": [
       "\\begin{enumerate*}\n",
       "\\item 'blood.glucose'\n",
       "\\item 'short.velocity'\n",
       "\\end{enumerate*}\n"
      ],
      "text/markdown": [
       "1. 'blood.glucose'\n",
       "2. 'short.velocity'\n",
       "\n",
       "\n"
      ],
      "text/plain": [
       "[1] \"blood.glucose\"  \"short.velocity\""
      ]
     },
     "metadata": {},
     "output_type": "display_data"
    },
    {
     "data": {
      "text/html": [
       "24"
      ],
      "text/latex": [
       "24"
      ],
      "text/markdown": [
       "24"
      ],
      "text/plain": [
       "[1] 24"
      ]
     },
     "metadata": {},
     "output_type": "display_data"
    },
    {
     "data": {
      "text/html": [
       "<ol class=list-inline>\n",
       "\t<li>4.2</li>\n",
       "\t<li>19.5</li>\n",
       "</ol>\n"
      ],
      "text/latex": [
       "\\begin{enumerate*}\n",
       "\\item 4.2\n",
       "\\item 19.5\n",
       "\\end{enumerate*}\n"
      ],
      "text/markdown": [
       "1. 4.2\n",
       "2. 19.5\n",
       "\n",
       "\n"
      ],
      "text/plain": [
       "[1]  4.2 19.5"
      ]
     },
     "metadata": {},
     "output_type": "display_data"
    },
    {
     "data": {
      "text/html": [
       "<ol class=list-inline>\n",
       "\t<li>4.2</li>\n",
       "\t<li>19.5</li>\n",
       "</ol>\n"
      ],
      "text/latex": [
       "\\begin{enumerate*}\n",
       "\\item 4.2\n",
       "\\item 19.5\n",
       "\\end{enumerate*}\n"
      ],
      "text/markdown": [
       "1. 4.2\n",
       "2. 19.5\n",
       "\n",
       "\n"
      ],
      "text/plain": [
       "[1]  4.2 19.5"
      ]
     },
     "metadata": {},
     "output_type": "display_data"
    }
   ],
   "source": [
    "#slide 27\n",
    "alphabet <- data.frame(index=1:26, symbol=LETTERS)\n",
    "names(alphabet)\n",
    "\n",
    "data(thuesen)\n",
    "names(thuesen)\n",
    "\n",
    "length(thuesen$blood.glucose)\n",
    "with(thuesen, range(blood.glucose))\n",
    "attach(thuesen)\n",
    "range(blood.glucose)\n",
    "detach(thuesen)"
   ]
  },
  {
   "cell_type": "code",
   "execution_count": 74,
   "id": "fa423e0c",
   "metadata": {},
   "outputs": [
    {
     "data": {
      "text/html": [
       "<table>\n",
       "<thead><tr><th></th><th scope=col>index</th><th scope=col>symbol</th></tr></thead>\n",
       "<tbody>\n",
       "\t<tr><th scope=row>10</th><td>10</td><td>J </td></tr>\n",
       "</tbody>\n",
       "</table>\n"
      ],
      "text/latex": [
       "\\begin{tabular}{r|ll}\n",
       "  & index & symbol\\\\\n",
       "\\hline\n",
       "\t10 & 10 & J \\\\\n",
       "\\end{tabular}\n"
      ],
      "text/markdown": [
       "\n",
       "| <!--/--> | index | symbol |\n",
       "|---|---|---|\n",
       "| 10 | 10 | J  |\n",
       "\n"
      ],
      "text/plain": [
       "   index symbol\n",
       "10 10    J     "
      ]
     },
     "metadata": {},
     "output_type": "display_data"
    },
    {
     "data": {
      "text/html": [
       "<table>\n",
       "<thead><tr><th scope=col>index</th><th scope=col>symbol</th></tr></thead>\n",
       "<tbody>\n",
       "\t<tr><td> 1</td><td>A </td></tr>\n",
       "\t<tr><td> 2</td><td>B </td></tr>\n",
       "\t<tr><td> 3</td><td>C </td></tr>\n",
       "\t<tr><td> 4</td><td>D </td></tr>\n",
       "\t<tr><td> 5</td><td>E </td></tr>\n",
       "\t<tr><td> 6</td><td>F </td></tr>\n",
       "\t<tr><td> 7</td><td>G </td></tr>\n",
       "\t<tr><td> 8</td><td>H </td></tr>\n",
       "\t<tr><td> 9</td><td>I </td></tr>\n",
       "\t<tr><td>10</td><td>J </td></tr>\n",
       "\t<tr><td>11</td><td>K </td></tr>\n",
       "\t<tr><td>12</td><td>L </td></tr>\n",
       "\t<tr><td>13</td><td>M </td></tr>\n",
       "\t<tr><td>14</td><td>N </td></tr>\n",
       "\t<tr><td>15</td><td>O </td></tr>\n",
       "\t<tr><td>16</td><td>P </td></tr>\n",
       "\t<tr><td>17</td><td>Q </td></tr>\n",
       "\t<tr><td>18</td><td>R </td></tr>\n",
       "\t<tr><td>19</td><td>S </td></tr>\n",
       "\t<tr><td>20</td><td>T </td></tr>\n",
       "\t<tr><td>21</td><td>U </td></tr>\n",
       "\t<tr><td>22</td><td>V </td></tr>\n",
       "\t<tr><td>23</td><td>W </td></tr>\n",
       "\t<tr><td>24</td><td>X </td></tr>\n",
       "\t<tr><td>25</td><td>Y </td></tr>\n",
       "\t<tr><td>26</td><td>Z </td></tr>\n",
       "</tbody>\n",
       "</table>\n"
      ],
      "text/latex": [
       "\\begin{tabular}{r|ll}\n",
       " index & symbol\\\\\n",
       "\\hline\n",
       "\t  1 & A \\\\\n",
       "\t  2 & B \\\\\n",
       "\t  3 & C \\\\\n",
       "\t  4 & D \\\\\n",
       "\t  5 & E \\\\\n",
       "\t  6 & F \\\\\n",
       "\t  7 & G \\\\\n",
       "\t  8 & H \\\\\n",
       "\t  9 & I \\\\\n",
       "\t 10 & J \\\\\n",
       "\t 11 & K \\\\\n",
       "\t 12 & L \\\\\n",
       "\t 13 & M \\\\\n",
       "\t 14 & N \\\\\n",
       "\t 15 & O \\\\\n",
       "\t 16 & P \\\\\n",
       "\t 17 & Q \\\\\n",
       "\t 18 & R \\\\\n",
       "\t 19 & S \\\\\n",
       "\t 20 & T \\\\\n",
       "\t 21 & U \\\\\n",
       "\t 22 & V \\\\\n",
       "\t 23 & W \\\\\n",
       "\t 24 & X \\\\\n",
       "\t 25 & Y \\\\\n",
       "\t 26 & Z \\\\\n",
       "\\end{tabular}\n"
      ],
      "text/markdown": [
       "\n",
       "| index | symbol |\n",
       "|---|---|\n",
       "|  1 | A  |\n",
       "|  2 | B  |\n",
       "|  3 | C  |\n",
       "|  4 | D  |\n",
       "|  5 | E  |\n",
       "|  6 | F  |\n",
       "|  7 | G  |\n",
       "|  8 | H  |\n",
       "|  9 | I  |\n",
       "| 10 | J  |\n",
       "| 11 | K  |\n",
       "| 12 | L  |\n",
       "| 13 | M  |\n",
       "| 14 | N  |\n",
       "| 15 | O  |\n",
       "| 16 | P  |\n",
       "| 17 | Q  |\n",
       "| 18 | R  |\n",
       "| 19 | S  |\n",
       "| 20 | T  |\n",
       "| 21 | U  |\n",
       "| 22 | V  |\n",
       "| 23 | W  |\n",
       "| 24 | X  |\n",
       "| 25 | Y  |\n",
       "| 26 | Z  |\n",
       "\n"
      ],
      "text/plain": [
       "   index symbol\n",
       "1   1    A     \n",
       "2   2    B     \n",
       "3   3    C     \n",
       "4   4    D     \n",
       "5   5    E     \n",
       "6   6    F     \n",
       "7   7    G     \n",
       "8   8    H     \n",
       "9   9    I     \n",
       "10 10    J     \n",
       "11 11    K     \n",
       "12 12    L     \n",
       "13 13    M     \n",
       "14 14    N     \n",
       "15 15    O     \n",
       "16 16    P     \n",
       "17 17    Q     \n",
       "18 18    R     \n",
       "19 19    S     \n",
       "20 20    T     \n",
       "21 21    U     \n",
       "22 22    V     \n",
       "23 23    W     \n",
       "24 24    X     \n",
       "25 25    Y     \n",
       "26 26    Z     "
      ]
     },
     "metadata": {},
     "output_type": "display_data"
    },
    {
     "data": {
      "text/html": [
       "<table>\n",
       "<thead><tr><th></th><th scope=col>index</th><th scope=col>symbol</th></tr></thead>\n",
       "<tbody>\n",
       "\t<tr><th scope=row>1</th><td>1</td><td>A</td></tr>\n",
       "\t<tr><th scope=row>3</th><td>3</td><td>C</td></tr>\n",
       "\t<tr><th scope=row>4</th><td>4</td><td>D</td></tr>\n",
       "\t<tr><th scope=row>5</th><td>5</td><td>E</td></tr>\n",
       "\t<tr><th scope=row>6</th><td>6</td><td>F</td></tr>\n",
       "\t<tr><th scope=row>7</th><td>7</td><td>G</td></tr>\n",
       "\t<tr><th scope=row>8</th><td>8</td><td>H</td></tr>\n",
       "\t<tr><th scope=row>9</th><td>9</td><td>I</td></tr>\n",
       "</tbody>\n",
       "</table>\n"
      ],
      "text/latex": [
       "\\begin{tabular}{r|ll}\n",
       "  & index & symbol\\\\\n",
       "\\hline\n",
       "\t1 & 1 & A\\\\\n",
       "\t3 & 3 & C\\\\\n",
       "\t4 & 4 & D\\\\\n",
       "\t5 & 5 & E\\\\\n",
       "\t6 & 6 & F\\\\\n",
       "\t7 & 7 & G\\\\\n",
       "\t8 & 8 & H\\\\\n",
       "\t9 & 9 & I\\\\\n",
       "\\end{tabular}\n"
      ],
      "text/markdown": [
       "\n",
       "| <!--/--> | index | symbol |\n",
       "|---|---|---|\n",
       "| 1 | 1 | A |\n",
       "| 3 | 3 | C |\n",
       "| 4 | 4 | D |\n",
       "| 5 | 5 | E |\n",
       "| 6 | 6 | F |\n",
       "| 7 | 7 | G |\n",
       "| 8 | 8 | H |\n",
       "| 9 | 9 | I |\n",
       "\n"
      ],
      "text/plain": [
       "  index symbol\n",
       "1 1     A     \n",
       "3 3     C     \n",
       "4 4     D     \n",
       "5 5     E     \n",
       "6 6     F     \n",
       "7 7     G     \n",
       "8 8     H     \n",
       "9 9     I     "
      ]
     },
     "metadata": {},
     "output_type": "display_data"
    },
    {
     "data": {
      "text/html": [
       "<dl>\n",
       "\t<dt>$A</dt>\n",
       "\t\t<dd>1</dd>\n",
       "\t<dt>$B</dt>\n",
       "\t\t<dd>2</dd>\n",
       "\t<dt>$C</dt>\n",
       "\t\t<dd>3</dd>\n",
       "\t<dt>$D</dt>\n",
       "\t\t<dd>4</dd>\n",
       "\t<dt>$E</dt>\n",
       "\t\t<dd>5</dd>\n",
       "\t<dt>$F</dt>\n",
       "\t\t<dd>6</dd>\n",
       "\t<dt>$G</dt>\n",
       "\t\t<dd>7</dd>\n",
       "\t<dt>$H</dt>\n",
       "\t\t<dd>8</dd>\n",
       "\t<dt>$I</dt>\n",
       "\t\t<dd>9</dd>\n",
       "\t<dt>$J</dt>\n",
       "\t\t<dd>10</dd>\n",
       "\t<dt>$K</dt>\n",
       "\t\t<dd>11</dd>\n",
       "\t<dt>$L</dt>\n",
       "\t\t<dd>12</dd>\n",
       "\t<dt>$M</dt>\n",
       "\t\t<dd>13</dd>\n",
       "\t<dt>$N</dt>\n",
       "\t\t<dd>14</dd>\n",
       "\t<dt>$O</dt>\n",
       "\t\t<dd>15</dd>\n",
       "\t<dt>$P</dt>\n",
       "\t\t<dd>16</dd>\n",
       "\t<dt>$Q</dt>\n",
       "\t\t<dd>17</dd>\n",
       "\t<dt>$R</dt>\n",
       "\t\t<dd>18</dd>\n",
       "\t<dt>$S</dt>\n",
       "\t\t<dd>19</dd>\n",
       "\t<dt>$T</dt>\n",
       "\t\t<dd>20</dd>\n",
       "\t<dt>$U</dt>\n",
       "\t\t<dd>21</dd>\n",
       "\t<dt>$V</dt>\n",
       "\t\t<dd>22</dd>\n",
       "\t<dt>$W</dt>\n",
       "\t\t<dd>23</dd>\n",
       "\t<dt>$X</dt>\n",
       "\t\t<dd>24</dd>\n",
       "\t<dt>$Y</dt>\n",
       "\t\t<dd>25</dd>\n",
       "\t<dt>$Z</dt>\n",
       "\t\t<dd>26</dd>\n",
       "</dl>\n"
      ],
      "text/latex": [
       "\\begin{description}\n",
       "\\item[\\$A] 1\n",
       "\\item[\\$B] 2\n",
       "\\item[\\$C] 3\n",
       "\\item[\\$D] 4\n",
       "\\item[\\$E] 5\n",
       "\\item[\\$F] 6\n",
       "\\item[\\$G] 7\n",
       "\\item[\\$H] 8\n",
       "\\item[\\$I] 9\n",
       "\\item[\\$J] 10\n",
       "\\item[\\$K] 11\n",
       "\\item[\\$L] 12\n",
       "\\item[\\$M] 13\n",
       "\\item[\\$N] 14\n",
       "\\item[\\$O] 15\n",
       "\\item[\\$P] 16\n",
       "\\item[\\$Q] 17\n",
       "\\item[\\$R] 18\n",
       "\\item[\\$S] 19\n",
       "\\item[\\$T] 20\n",
       "\\item[\\$U] 21\n",
       "\\item[\\$V] 22\n",
       "\\item[\\$W] 23\n",
       "\\item[\\$X] 24\n",
       "\\item[\\$Y] 25\n",
       "\\item[\\$Z] 26\n",
       "\\end{description}\n"
      ],
      "text/markdown": [
       "$A\n",
       ":   1\n",
       "$B\n",
       ":   2\n",
       "$C\n",
       ":   3\n",
       "$D\n",
       ":   4\n",
       "$E\n",
       ":   5\n",
       "$F\n",
       ":   6\n",
       "$G\n",
       ":   7\n",
       "$H\n",
       ":   8\n",
       "$I\n",
       ":   9\n",
       "$J\n",
       ":   10\n",
       "$K\n",
       ":   11\n",
       "$L\n",
       ":   12\n",
       "$M\n",
       ":   13\n",
       "$N\n",
       ":   14\n",
       "$O\n",
       ":   15\n",
       "$P\n",
       ":   16\n",
       "$Q\n",
       ":   17\n",
       "$R\n",
       ":   18\n",
       "$S\n",
       ":   19\n",
       "$T\n",
       ":   20\n",
       "$U\n",
       ":   21\n",
       "$V\n",
       ":   22\n",
       "$W\n",
       ":   23\n",
       "$X\n",
       ":   24\n",
       "$Y\n",
       ":   25\n",
       "$Z\n",
       ":   26\n",
       "\n",
       "\n"
      ],
      "text/plain": [
       "$A\n",
       "[1] 1\n",
       "\n",
       "$B\n",
       "[1] 2\n",
       "\n",
       "$C\n",
       "[1] 3\n",
       "\n",
       "$D\n",
       "[1] 4\n",
       "\n",
       "$E\n",
       "[1] 5\n",
       "\n",
       "$F\n",
       "[1] 6\n",
       "\n",
       "$G\n",
       "[1] 7\n",
       "\n",
       "$H\n",
       "[1] 8\n",
       "\n",
       "$I\n",
       "[1] 9\n",
       "\n",
       "$J\n",
       "[1] 10\n",
       "\n",
       "$K\n",
       "[1] 11\n",
       "\n",
       "$L\n",
       "[1] 12\n",
       "\n",
       "$M\n",
       "[1] 13\n",
       "\n",
       "$N\n",
       "[1] 14\n",
       "\n",
       "$O\n",
       "[1] 15\n",
       "\n",
       "$P\n",
       "[1] 16\n",
       "\n",
       "$Q\n",
       "[1] 17\n",
       "\n",
       "$R\n",
       "[1] 18\n",
       "\n",
       "$S\n",
       "[1] 19\n",
       "\n",
       "$T\n",
       "[1] 20\n",
       "\n",
       "$U\n",
       "[1] 21\n",
       "\n",
       "$V\n",
       "[1] 22\n",
       "\n",
       "$W\n",
       "[1] 23\n",
       "\n",
       "$X\n",
       "[1] 24\n",
       "\n",
       "$Y\n",
       "[1] 25\n",
       "\n",
       "$Z\n",
       "[1] 26\n"
      ]
     },
     "metadata": {},
     "output_type": "display_data"
    }
   ],
   "source": [
    "#slide 28\n",
    "alphabet[alphabet$symbol=='J',]\n",
    "alphabet[order(alphabet$symbol),]\n",
    "subset(alphabet, index<10 & symbol!='B')\n",
    "split(alphabet$index, alphabet$symbol)"
   ]
  },
  {
   "cell_type": "code",
   "execution_count": 81,
   "id": "a10231d0",
   "metadata": {},
   "outputs": [
    {
     "data": {
      "text/html": [
       "<ol class=list-inline>\n",
       "\t<li>'USD'</li>\n",
       "\t<li>'Yen'</li>\n",
       "\t<li>'Pesos'</li>\n",
       "\t<li>'Rupee'</li>\n",
       "</ol>\n"
      ],
      "text/latex": [
       "\\begin{enumerate*}\n",
       "\\item 'USD'\n",
       "\\item 'Yen'\n",
       "\\item 'Pesos'\n",
       "\\item 'Rupee'\n",
       "\\end{enumerate*}\n"
      ],
      "text/markdown": [
       "1. 'USD'\n",
       "2. 'Yen'\n",
       "3. 'Pesos'\n",
       "4. 'Rupee'\n",
       "\n",
       "\n"
      ],
      "text/plain": [
       "[1] \"USD\"   \"Yen\"   \"Pesos\" \"Rupee\""
      ]
     },
     "metadata": {},
     "output_type": "display_data"
    },
    {
     "data": {
      "text/html": [
       "<ol class=list-inline>\n",
       "\t<li>11</li>\n",
       "\t<li>22</li>\n",
       "\t<li>1231</li>\n",
       "\t<li>1232</li>\n",
       "\t<li>5235</li>\n",
       "</ol>\n"
      ],
      "text/latex": [
       "\\begin{enumerate*}\n",
       "\\item 11\n",
       "\\item 22\n",
       "\\item 1231\n",
       "\\item 1232\n",
       "\\item 5235\n",
       "\\end{enumerate*}\n"
      ],
      "text/markdown": [
       "1. 11\n",
       "2. 22\n",
       "3. 1231\n",
       "4. 1232\n",
       "5. 5235\n",
       "\n",
       "\n"
      ],
      "text/plain": [
       "[1]   11   22 1231 1232 5235"
      ]
     },
     "metadata": {},
     "output_type": "display_data"
    }
   ],
   "source": [
    "#slide 29\n",
    "a = list(currency = c('USD', 'Yen', 'Pesos', 'Rupee'), money =c(11, 22, 1231, 1232, 5235))\n",
    "a$currency\n",
    "a[[2]]"
   ]
  },
  {
   "cell_type": "code",
   "execution_count": 88,
   "id": "93022466",
   "metadata": {},
   "outputs": [
    {
     "data": {
      "text/html": [
       "<ol class=list-inline>\n",
       "\t<li>'a'</li>\n",
       "\t<li>'alphabet'</li>\n",
       "\t<li>'coinflip'</li>\n",
       "\t<li>'currency'</li>\n",
       "\t<li>'fcoinflip'</li>\n",
       "\t<li>'mat'</li>\n",
       "\t<li>'mat2'</li>\n",
       "\t<li>'mat3'</li>\n",
       "\t<li>'new'</li>\n",
       "\t<li>'orca'</li>\n",
       "\t<li>'scl'</li>\n",
       "\t<li>'survey'</li>\n",
       "\t<li>'testVar'</li>\n",
       "\t<li>'thuesen'</li>\n",
       "\t<li>'values'</li>\n",
       "\t<li>'x'</li>\n",
       "</ol>\n"
      ],
      "text/latex": [
       "\\begin{enumerate*}\n",
       "\\item 'a'\n",
       "\\item 'alphabet'\n",
       "\\item 'coinflip'\n",
       "\\item 'currency'\n",
       "\\item 'fcoinflip'\n",
       "\\item 'mat'\n",
       "\\item 'mat2'\n",
       "\\item 'mat3'\n",
       "\\item 'new'\n",
       "\\item 'orca'\n",
       "\\item 'scl'\n",
       "\\item 'survey'\n",
       "\\item 'testVar'\n",
       "\\item 'thuesen'\n",
       "\\item 'values'\n",
       "\\item 'x'\n",
       "\\end{enumerate*}\n"
      ],
      "text/markdown": [
       "1. 'a'\n",
       "2. 'alphabet'\n",
       "3. 'coinflip'\n",
       "4. 'currency'\n",
       "5. 'fcoinflip'\n",
       "6. 'mat'\n",
       "7. 'mat2'\n",
       "8. 'mat3'\n",
       "9. 'new'\n",
       "10. 'orca'\n",
       "11. 'scl'\n",
       "12. 'survey'\n",
       "13. 'testVar'\n",
       "14. 'thuesen'\n",
       "15. 'values'\n",
       "16. 'x'\n",
       "\n",
       "\n"
      ],
      "text/plain": [
       " [1] \"a\"         \"alphabet\"  \"coinflip\"  \"currency\"  \"fcoinflip\" \"mat\"      \n",
       " [7] \"mat2\"      \"mat3\"      \"new\"       \"orca\"      \"scl\"       \"survey\"   \n",
       "[13] \"testVar\"   \"thuesen\"   \"values\"    \"x\"        "
      ]
     },
     "metadata": {},
     "output_type": "display_data"
    },
    {
     "data": {
      "text/html": [
       "'C:/Users/shash/Documents/Untitled Folder'"
      ],
      "text/latex": [
       "'C:/Users/shash/Documents/Untitled Folder'"
      ],
      "text/markdown": [
       "'C:/Users/shash/Documents/Untitled Folder'"
      ],
      "text/plain": [
       "[1] \"C:/Users/shash/Documents/Untitled Folder\""
      ]
     },
     "metadata": {},
     "output_type": "display_data"
    }
   ],
   "source": [
    "#slide 30\n",
    "ls()\n",
    "rm(scl)\n",
    "getwd()\n",
    "setwd('C:/Users/shash/Documents/Untitled Folder')\n",
    "save.image(file='lab1image.RData')\n",
    "load(file='lab1image.RData')"
   ]
  },
  {
   "cell_type": "code",
   "execution_count": 89,
   "id": "67cbaa2f",
   "metadata": {},
   "outputs": [
    {
     "name": "stdout",
     "output_type": "stream",
     "text": [
      "\n",
      "> print(\"hello world\")\n",
      "[1] \"hello world\"\n"
     ]
    }
   ],
   "source": [
    "#slide 31\n",
    "source(\"helloWorld.R\", echo=T)"
   ]
  },
  {
   "cell_type": "code",
   "execution_count": null,
   "id": "a5d2ed2e",
   "metadata": {},
   "outputs": [],
   "source": [
    "#slide 32\n",
    "#see top of lab "
   ]
  }
 ],
 "metadata": {
  "kernelspec": {
   "display_name": "R",
   "language": "R",
   "name": "ir"
  },
  "language_info": {
   "codemirror_mode": "r",
   "file_extension": ".r",
   "mimetype": "text/x-r-source",
   "name": "R",
   "pygments_lexer": "r",
   "version": "3.6.1"
  }
 },
 "nbformat": 4,
 "nbformat_minor": 5
}
